{
 "cells": [
  {
   "cell_type": "code",
   "execution_count": null,
   "metadata": {},
   "outputs": [],
   "source": [
    "!pip install nltk\n",
    "!pip install pandas\n",
    "!pip install matplotlib\n",
    "!pip install -U gensim\n",
    "!pip install jupyter\n",
    "!pip install pyLDAvis\n",
    "!pip install Unidecode"
   ]
  },
  {
   "cell_type": "code",
   "execution_count": 123,
   "metadata": {},
   "outputs": [],
   "source": [
    "import pandas as pd\n",
    "import numpy as np\n",
    "import dateutil.parser\n",
    "import nltk\n",
    "import re\n",
    "import codecs\n",
    "import matplotlib.pyplot as plt\n",
    "import io\n",
    "import os.path\n",
    "import re\n",
    "import time\n",
    "import seaborn as sns  \n",
    "from datetime import datetime\n",
    "from datetime import date\n",
    "from datetime import timedelta, datetime\n",
    "import seaborn as sns\n",
    "import collections\n",
    "from scipy.stats import itemfreq\n",
    "from itertools import groupby"
   ]
  },
  {
   "cell_type": "code",
   "execution_count": null,
   "metadata": {},
   "outputs": [],
   "source": []
  },
  {
   "cell_type": "markdown",
   "metadata": {},
   "source": [
    "Se hace detección de outliers"
   ]
  },
  {
   "cell_type": "code",
   "execution_count": 2,
   "metadata": {},
   "outputs": [],
   "source": [
    "df = pd.read_excel (r'C:\\Users\\w7\\Desktop\\proyecto integrador\\dataset.xlsx')\n",
    "df['date'] = df['date'].apply(dateutil.parser.parse)\n",
    "df = df.rename(index=df['date'])"
   ]
  },
  {
   "cell_type": "code",
   "execution_count": 3,
   "metadata": {},
   "outputs": [],
   "source": [
    "rating_count = df.groupby(['product', 'date']).count()[['rating']].reset_index()\n",
    "products = rating_count['product'].unique()\n",
    "dates = rating_count['date'].unique()"
   ]
  },
  {
   "cell_type": "code",
   "execution_count": 4,
   "metadata": {},
   "outputs": [],
   "source": [
    "info =pd.DataFrame()\n",
    "std2 = []\n",
    "prom = []\n",
    "for i in range(len(products)):\n",
    "    prod = rating_count.loc[rating_count['product']==products[i]]\n",
    "    prod = np.array(prod['rating'])\n",
    "    std2 =  np.hstack((std2, np.std(prod)))\n",
    "    prom =  np.hstack((prom, np.average(prod)))\n",
    "info['product'] = products\n",
    "info['std'] = std2\n",
    "info['prom'] = prom"
   ]
  },
  {
   "cell_type": "code",
   "execution_count": 5,
   "metadata": {},
   "outputs": [
    {
     "data": {
      "text/html": [
       "<div>\n",
       "<style scoped>\n",
       "    .dataframe tbody tr th:only-of-type {\n",
       "        vertical-align: middle;\n",
       "    }\n",
       "\n",
       "    .dataframe tbody tr th {\n",
       "        vertical-align: top;\n",
       "    }\n",
       "\n",
       "    .dataframe thead th {\n",
       "        text-align: right;\n",
       "    }\n",
       "</style>\n",
       "<table border=\"1\" class=\"dataframe\">\n",
       "  <thead>\n",
       "    <tr style=\"text-align: right;\">\n",
       "      <th></th>\n",
       "      <th>product</th>\n",
       "      <th>std</th>\n",
       "      <th>prom</th>\n",
       "    </tr>\n",
       "  </thead>\n",
       "  <tbody>\n",
       "    <tr>\n",
       "      <th>0</th>\n",
       "      <td>Animal Crossing: New Horizons</td>\n",
       "      <td>79.409340</td>\n",
       "      <td>39.957746</td>\n",
       "    </tr>\n",
       "    <tr>\n",
       "      <th>1</th>\n",
       "      <td>Call of Duty: Modern Warfare</td>\n",
       "      <td>7.371115</td>\n",
       "      <td>4.333333</td>\n",
       "    </tr>\n",
       "    <tr>\n",
       "      <th>2</th>\n",
       "      <td>Death Stranding</td>\n",
       "      <td>46.254998</td>\n",
       "      <td>13.808219</td>\n",
       "    </tr>\n",
       "    <tr>\n",
       "      <th>3</th>\n",
       "      <td>Fallout 4</td>\n",
       "      <td>19.431730</td>\n",
       "      <td>4.481735</td>\n",
       "    </tr>\n",
       "    <tr>\n",
       "      <th>4</th>\n",
       "      <td>Gears 5</td>\n",
       "      <td>26.752039</td>\n",
       "      <td>6.871560</td>\n",
       "    </tr>\n",
       "    <tr>\n",
       "      <th>5</th>\n",
       "      <td>Grand Theft Auto V</td>\n",
       "      <td>1.391997</td>\n",
       "      <td>1.345771</td>\n",
       "    </tr>\n",
       "    <tr>\n",
       "      <th>6</th>\n",
       "      <td>NieR: Automata</td>\n",
       "      <td>3.206711</td>\n",
       "      <td>1.891026</td>\n",
       "    </tr>\n",
       "    <tr>\n",
       "      <th>7</th>\n",
       "      <td>Pokemon Sword</td>\n",
       "      <td>74.309355</td>\n",
       "      <td>14.891892</td>\n",
       "    </tr>\n",
       "    <tr>\n",
       "      <th>8</th>\n",
       "      <td>Spore</td>\n",
       "      <td>7.607326</td>\n",
       "      <td>3.195238</td>\n",
       "    </tr>\n",
       "    <tr>\n",
       "      <th>9</th>\n",
       "      <td>The Elder Scrolls V: Skyrim</td>\n",
       "      <td>8.112723</td>\n",
       "      <td>2.536741</td>\n",
       "    </tr>\n",
       "    <tr>\n",
       "      <th>10</th>\n",
       "      <td>Titan Souls</td>\n",
       "      <td>0.640312</td>\n",
       "      <td>1.300000</td>\n",
       "    </tr>\n",
       "    <tr>\n",
       "      <th>11</th>\n",
       "      <td>Warcraft III: Reforged</td>\n",
       "      <td>312.262122</td>\n",
       "      <td>120.714286</td>\n",
       "    </tr>\n",
       "  </tbody>\n",
       "</table>\n",
       "</div>"
      ],
      "text/plain": [
       "                          product         std        prom\n",
       "0   Animal Crossing: New Horizons   79.409340   39.957746\n",
       "1    Call of Duty: Modern Warfare    7.371115    4.333333\n",
       "2                 Death Stranding   46.254998   13.808219\n",
       "3                       Fallout 4   19.431730    4.481735\n",
       "4                         Gears 5   26.752039    6.871560\n",
       "5              Grand Theft Auto V    1.391997    1.345771\n",
       "6                  NieR: Automata    3.206711    1.891026\n",
       "7                   Pokemon Sword   74.309355   14.891892\n",
       "8                           Spore    7.607326    3.195238\n",
       "9     The Elder Scrolls V: Skyrim    8.112723    2.536741\n",
       "10                    Titan Souls    0.640312    1.300000\n",
       "11         Warcraft III: Reforged  312.262122  120.714286"
      ]
     },
     "execution_count": 5,
     "metadata": {},
     "output_type": "execute_result"
    }
   ],
   "source": [
    "info"
   ]
  },
  {
   "cell_type": "code",
   "execution_count": 6,
   "metadata": {},
   "outputs": [],
   "source": [
    "fecha = pd.DataFrame()\n",
    "finaldf = pd.DataFrame()\n",
    "finaldf['date'] = dates\n",
    "zeros = pd.DataFrame(np.zeros((len(rating_count['date']), len(products))), columns= products )\n",
    "finaldf = pd.concat([finaldf,zeros], axis =1 )"
   ]
  },
  {
   "cell_type": "code",
   "execution_count": 29,
   "metadata": {},
   "outputs": [],
   "source": [
    "temp = pd.DataFrame()\n",
    "beta = []\n",
    "j = 11 # se debe, para fines del código, reemplazar la j por 0 hasta 11 y correr este código y la línea de abajo\n",
    "for x in range(len(rating_count.loc[rating_count['product']==products[j]])):\n",
    "    prod = np.array(rating_count.loc[rating_count['product']==products[j]]['rating'])\n",
    "    std = info.loc[info['product']==products[j],'std']\n",
    "    prom = info.loc[info['product']==products[j], 'prom']\n",
    "    beta =  np.absolute(np.hstack((beta, (((prod)[x])-prom)/std)))\n",
    "    temp['date'] = rating_count.loc[rating_count['product']==products[j]]['date']\n",
    "temp[products[j]] = beta"
   ]
  },
  {
   "cell_type": "code",
   "execution_count": 30,
   "metadata": {},
   "outputs": [],
   "source": [
    "finaldf.update(temp)"
   ]
  },
  {
   "cell_type": "code",
   "execution_count": 33,
   "metadata": {},
   "outputs": [
    {
     "data": {
      "text/html": [
       "<div>\n",
       "<style scoped>\n",
       "    .dataframe tbody tr th:only-of-type {\n",
       "        vertical-align: middle;\n",
       "    }\n",
       "\n",
       "    .dataframe tbody tr th {\n",
       "        vertical-align: top;\n",
       "    }\n",
       "\n",
       "    .dataframe thead th {\n",
       "        text-align: right;\n",
       "    }\n",
       "</style>\n",
       "<table border=\"1\" class=\"dataframe\">\n",
       "  <thead>\n",
       "    <tr style=\"text-align: right;\">\n",
       "      <th></th>\n",
       "      <th>date</th>\n",
       "      <th>Animal Crossing: New Horizons</th>\n",
       "      <th>Call of Duty: Modern Warfare</th>\n",
       "      <th>Death Stranding</th>\n",
       "      <th>Fallout 4</th>\n",
       "      <th>Gears 5</th>\n",
       "      <th>Grand Theft Auto V</th>\n",
       "      <th>NieR: Automata</th>\n",
       "      <th>Pokemon Sword</th>\n",
       "      <th>Spore</th>\n",
       "      <th>The Elder Scrolls V: Skyrim</th>\n",
       "      <th>Titan Souls</th>\n",
       "      <th>Warcraft III: Reforged</th>\n",
       "    </tr>\n",
       "  </thead>\n",
       "  <tbody>\n",
       "    <tr>\n",
       "      <th>0</th>\n",
       "      <td>2020-03-20</td>\n",
       "      <td>0.642774</td>\n",
       "      <td>0.0</td>\n",
       "      <td>0.0</td>\n",
       "      <td>0.0</td>\n",
       "      <td>0.0</td>\n",
       "      <td>0.0</td>\n",
       "      <td>0.0</td>\n",
       "      <td>0.0</td>\n",
       "      <td>0.0</td>\n",
       "      <td>0.0</td>\n",
       "      <td>0.0</td>\n",
       "      <td>0.0</td>\n",
       "    </tr>\n",
       "    <tr>\n",
       "      <th>1</th>\n",
       "      <td>2020-03-21</td>\n",
       "      <td>0.403507</td>\n",
       "      <td>0.0</td>\n",
       "      <td>0.0</td>\n",
       "      <td>0.0</td>\n",
       "      <td>0.0</td>\n",
       "      <td>0.0</td>\n",
       "      <td>0.0</td>\n",
       "      <td>0.0</td>\n",
       "      <td>0.0</td>\n",
       "      <td>0.0</td>\n",
       "      <td>0.0</td>\n",
       "      <td>0.0</td>\n",
       "    </tr>\n",
       "    <tr>\n",
       "      <th>2</th>\n",
       "      <td>2020-03-22</td>\n",
       "      <td>0.139055</td>\n",
       "      <td>0.0</td>\n",
       "      <td>0.0</td>\n",
       "      <td>0.0</td>\n",
       "      <td>0.0</td>\n",
       "      <td>0.0</td>\n",
       "      <td>0.0</td>\n",
       "      <td>0.0</td>\n",
       "      <td>0.0</td>\n",
       "      <td>0.0</td>\n",
       "      <td>0.0</td>\n",
       "      <td>0.0</td>\n",
       "    </tr>\n",
       "    <tr>\n",
       "      <th>3</th>\n",
       "      <td>2020-03-23</td>\n",
       "      <td>0.390914</td>\n",
       "      <td>0.0</td>\n",
       "      <td>0.0</td>\n",
       "      <td>0.0</td>\n",
       "      <td>0.0</td>\n",
       "      <td>0.0</td>\n",
       "      <td>0.0</td>\n",
       "      <td>0.0</td>\n",
       "      <td>0.0</td>\n",
       "      <td>0.0</td>\n",
       "      <td>0.0</td>\n",
       "      <td>0.0</td>\n",
       "    </tr>\n",
       "    <tr>\n",
       "      <th>4</th>\n",
       "      <td>2020-03-24</td>\n",
       "      <td>6.347393</td>\n",
       "      <td>0.0</td>\n",
       "      <td>0.0</td>\n",
       "      <td>0.0</td>\n",
       "      <td>0.0</td>\n",
       "      <td>0.0</td>\n",
       "      <td>0.0</td>\n",
       "      <td>0.0</td>\n",
       "      <td>0.0</td>\n",
       "      <td>0.0</td>\n",
       "      <td>0.0</td>\n",
       "      <td>0.0</td>\n",
       "    </tr>\n",
       "  </tbody>\n",
       "</table>\n",
       "</div>"
      ],
      "text/plain": [
       "        date  Animal Crossing: New Horizons  Call of Duty: Modern Warfare  \\\n",
       "0 2020-03-20                       0.642774                           0.0   \n",
       "1 2020-03-21                       0.403507                           0.0   \n",
       "2 2020-03-22                       0.139055                           0.0   \n",
       "3 2020-03-23                       0.390914                           0.0   \n",
       "4 2020-03-24                       6.347393                           0.0   \n",
       "\n",
       "   Death Stranding  Fallout 4  Gears 5  Grand Theft Auto V  NieR: Automata  \\\n",
       "0              0.0        0.0      0.0                 0.0             0.0   \n",
       "1              0.0        0.0      0.0                 0.0             0.0   \n",
       "2              0.0        0.0      0.0                 0.0             0.0   \n",
       "3              0.0        0.0      0.0                 0.0             0.0   \n",
       "4              0.0        0.0      0.0                 0.0             0.0   \n",
       "\n",
       "   Pokemon Sword  Spore  The Elder Scrolls V: Skyrim  Titan Souls  \\\n",
       "0            0.0    0.0                          0.0          0.0   \n",
       "1            0.0    0.0                          0.0          0.0   \n",
       "2            0.0    0.0                          0.0          0.0   \n",
       "3            0.0    0.0                          0.0          0.0   \n",
       "4            0.0    0.0                          0.0          0.0   \n",
       "\n",
       "   Warcraft III: Reforged  \n",
       "0                     0.0  \n",
       "1                     0.0  \n",
       "2                     0.0  \n",
       "3                     0.0  \n",
       "4                     0.0  "
      ]
     },
     "execution_count": 33,
     "metadata": {},
     "output_type": "execute_result"
    }
   ],
   "source": [
    "finaldf.head()"
   ]
  },
  {
   "cell_type": "code",
   "execution_count": null,
   "metadata": {},
   "outputs": [],
   "source": [
    "tempdict = {'date':[], products[0]:[]}\n",
    "beta = []\n",
    "for j in range(len(products)):\n",
    "    for x in range(len(rating_count.loc[rating_count['product']==products[j]])):\n",
    "        prod = rating_count.loc[rating_count['product']==products[j]]['rating']\n",
    "        std = info.loc[info['product']==products[j],'std']\n",
    "        prom = info.loc[info['product']==products[j], 'prom']\n",
    "        tempdict['date'].append(rating_count.loc[rating_count['product']==products[j]]['date'][x])\n",
    "        tempdict[products[0]].append(np.absolute(np.hstack((beta, (((prod)[x])-prom)/std))))   "
   ]
  },
  {
   "cell_type": "code",
   "execution_count": null,
   "metadata": {},
   "outputs": [],
   "source": [
    "j = 0\n",
    "tempdict = {'date':[], products[j]:[]}\n",
    "for x in range(len(rating_count.loc[rating_count['product']==products[j]])):\n",
    "    prod = rating_count.loc[rating_count['product']==products[j]].reset_index()['rating']\n",
    "    std = info.loc[info['product']==products[j],'std']\n",
    "    prom = info.loc[info['product']==products[j], 'prom']\n",
    "    tempdict['date'].append(rating_count.loc[rating_count['product']==products[j]].reset_index()['date'][x])\n",
    "    tempdict[products[j]].append(np.absolute(np.hstack((beta, (((prod)[x])-prom)/std))))\n",
    "#     tempdict[products[j]].append((prod[x]-prom)/std)"
   ]
  },
  {
   "cell_type": "code",
   "execution_count": null,
   "metadata": {
    "scrolled": true
   },
   "outputs": [],
   "source": [
    "for i in range(len(products)+1):\n",
    "    print(finaldf.iloc[:,i].max())"
   ]
  },
  {
   "cell_type": "code",
   "execution_count": 31,
   "metadata": {},
   "outputs": [
    {
     "data": {
      "text/html": [
       "<div>\n",
       "<style scoped>\n",
       "    .dataframe tbody tr th:only-of-type {\n",
       "        vertical-align: middle;\n",
       "    }\n",
       "\n",
       "    .dataframe tbody tr th {\n",
       "        vertical-align: top;\n",
       "    }\n",
       "\n",
       "    .dataframe thead th {\n",
       "        text-align: right;\n",
       "    }\n",
       "</style>\n",
       "<table border=\"1\" class=\"dataframe\">\n",
       "  <thead>\n",
       "    <tr style=\"text-align: right;\">\n",
       "      <th></th>\n",
       "      <th>product</th>\n",
       "      <th>name</th>\n",
       "      <th>date</th>\n",
       "      <th>rating</th>\n",
       "      <th>review</th>\n",
       "      <th>percentage</th>\n",
       "      <th>langreview</th>\n",
       "    </tr>\n",
       "  </thead>\n",
       "  <tbody>\n",
       "    <tr>\n",
       "      <th>2020-03-24</th>\n",
       "      <td>Animal Crossing: New Horizons</td>\n",
       "      <td>\\nNathanDetr0it\\n</td>\n",
       "      <td>2020-03-24</td>\n",
       "      <td>4</td>\n",
       "      <td>\\n\"One Dictator, Seven Slaves\" same-console mu...</td>\n",
       "      <td>0.636986</td>\n",
       "      <td>en</td>\n",
       "    </tr>\n",
       "    <tr>\n",
       "      <th>2020-03-24</th>\n",
       "      <td>Animal Crossing: New Horizons</td>\n",
       "      <td>\\nAngelmamistan\\n</td>\n",
       "      <td>2020-03-24</td>\n",
       "      <td>0</td>\n",
       "      <td>Having one island per console isn't even the w...</td>\n",
       "      <td>0.628571</td>\n",
       "      <td>en</td>\n",
       "    </tr>\n",
       "    <tr>\n",
       "      <th>2020-03-24</th>\n",
       "      <td>Animal Crossing: New Horizons</td>\n",
       "      <td>\\nPeppermintsneez\\n</td>\n",
       "      <td>2020-03-24</td>\n",
       "      <td>1</td>\n",
       "      <td>As a secondary island member, it is hard to ra...</td>\n",
       "      <td>0.615385</td>\n",
       "      <td>en</td>\n",
       "    </tr>\n",
       "    <tr>\n",
       "      <th>2020-03-24</th>\n",
       "      <td>Animal Crossing: New Horizons</td>\n",
       "      <td>\\nc_anthony\\n</td>\n",
       "      <td>2020-03-24</td>\n",
       "      <td>1</td>\n",
       "      <td>Animal Crossing: New Horizons is a great solo ...</td>\n",
       "      <td>0.590909</td>\n",
       "      <td>en</td>\n",
       "    </tr>\n",
       "    <tr>\n",
       "      <th>2020-03-24</th>\n",
       "      <td>Animal Crossing: New Horizons</td>\n",
       "      <td>\\nBaileywastaken\\n</td>\n",
       "      <td>2020-03-24</td>\n",
       "      <td>0</td>\n",
       "      <td>\\nNintendo made this game so that only one per...</td>\n",
       "      <td>0.586207</td>\n",
       "      <td>en</td>\n",
       "    </tr>\n",
       "    <tr>\n",
       "      <th>...</th>\n",
       "      <td>...</td>\n",
       "      <td>...</td>\n",
       "      <td>...</td>\n",
       "      <td>...</td>\n",
       "      <td>...</td>\n",
       "      <td>...</td>\n",
       "      <td>...</td>\n",
       "    </tr>\n",
       "    <tr>\n",
       "      <th>2020-01-31</th>\n",
       "      <td>Warcraft III: Reforged</td>\n",
       "      <td>\\nWailrimouche\\n</td>\n",
       "      <td>2020-01-31</td>\n",
       "      <td>0</td>\n",
       "      <td>\\nNo promises delivered, no campaign changes, ...</td>\n",
       "      <td>1.000000</td>\n",
       "      <td>en</td>\n",
       "    </tr>\n",
       "    <tr>\n",
       "      <th>2020-01-31</th>\n",
       "      <td>Warcraft III: Reforged</td>\n",
       "      <td>\\nheyylisten\\n</td>\n",
       "      <td>2020-01-31</td>\n",
       "      <td>0</td>\n",
       "      <td>\\nBlizzard have completely and utterly lost th...</td>\n",
       "      <td>1.000000</td>\n",
       "      <td>en</td>\n",
       "    </tr>\n",
       "    <tr>\n",
       "      <th>2020-01-31</th>\n",
       "      <td>Warcraft III: Reforged</td>\n",
       "      <td>\\nCheddarwilly\\n</td>\n",
       "      <td>2020-01-31</td>\n",
       "      <td>0</td>\n",
       "      <td>\\nIt's kind of impressive how bad they screwed...</td>\n",
       "      <td>1.000000</td>\n",
       "      <td>en</td>\n",
       "    </tr>\n",
       "    <tr>\n",
       "      <th>2020-01-31</th>\n",
       "      <td>Warcraft III: Reforged</td>\n",
       "      <td>\\nMelounus\\n</td>\n",
       "      <td>2020-01-31</td>\n",
       "      <td>0</td>\n",
       "      <td>No custom campaign :( no good conditions for m...</td>\n",
       "      <td>1.000000</td>\n",
       "      <td>en</td>\n",
       "    </tr>\n",
       "    <tr>\n",
       "      <th>2020-01-31</th>\n",
       "      <td>Warcraft III: Reforged</td>\n",
       "      <td>\\nMEDIABOT\\n</td>\n",
       "      <td>2020-01-31</td>\n",
       "      <td>0</td>\n",
       "      <td>\\nFeels more of a downgrade than an upgrade re...</td>\n",
       "      <td>1.000000</td>\n",
       "      <td>en</td>\n",
       "    </tr>\n",
       "  </tbody>\n",
       "</table>\n",
       "<p>7369 rows × 7 columns</p>\n",
       "</div>"
      ],
      "text/plain": [
       "                                  product                 name       date  \\\n",
       "2020-03-24  Animal Crossing: New Horizons    \\nNathanDetr0it\\n 2020-03-24   \n",
       "2020-03-24  Animal Crossing: New Horizons    \\nAngelmamistan\\n 2020-03-24   \n",
       "2020-03-24  Animal Crossing: New Horizons  \\nPeppermintsneez\\n 2020-03-24   \n",
       "2020-03-24  Animal Crossing: New Horizons        \\nc_anthony\\n 2020-03-24   \n",
       "2020-03-24  Animal Crossing: New Horizons   \\nBaileywastaken\\n 2020-03-24   \n",
       "...                                   ...                  ...        ...   \n",
       "2020-01-31         Warcraft III: Reforged     \\nWailrimouche\\n 2020-01-31   \n",
       "2020-01-31         Warcraft III: Reforged       \\nheyylisten\\n 2020-01-31   \n",
       "2020-01-31         Warcraft III: Reforged     \\nCheddarwilly\\n 2020-01-31   \n",
       "2020-01-31         Warcraft III: Reforged         \\nMelounus\\n 2020-01-31   \n",
       "2020-01-31         Warcraft III: Reforged         \\nMEDIABOT\\n 2020-01-31   \n",
       "\n",
       "            rating                                             review  \\\n",
       "2020-03-24       4  \\n\"One Dictator, Seven Slaves\" same-console mu...   \n",
       "2020-03-24       0  Having one island per console isn't even the w...   \n",
       "2020-03-24       1  As a secondary island member, it is hard to ra...   \n",
       "2020-03-24       1  Animal Crossing: New Horizons is a great solo ...   \n",
       "2020-03-24       0  \\nNintendo made this game so that only one per...   \n",
       "...            ...                                                ...   \n",
       "2020-01-31       0  \\nNo promises delivered, no campaign changes, ...   \n",
       "2020-01-31       0  \\nBlizzard have completely and utterly lost th...   \n",
       "2020-01-31       0  \\nIt's kind of impressive how bad they screwed...   \n",
       "2020-01-31       0  No custom campaign :( no good conditions for m...   \n",
       "2020-01-31       0  \\nFeels more of a downgrade than an upgrade re...   \n",
       "\n",
       "            percentage langreview  \n",
       "2020-03-24    0.636986         en  \n",
       "2020-03-24    0.628571         en  \n",
       "2020-03-24    0.615385         en  \n",
       "2020-03-24    0.590909         en  \n",
       "2020-03-24    0.586207         en  \n",
       "...                ...        ...  \n",
       "2020-01-31    1.000000         en  \n",
       "2020-01-31    1.000000         en  \n",
       "2020-01-31    1.000000         en  \n",
       "2020-01-31    1.000000         en  \n",
       "2020-01-31    1.000000         en  \n",
       "\n",
       "[7369 rows x 7 columns]"
      ]
     },
     "execution_count": 31,
     "metadata": {},
     "output_type": "execute_result"
    }
   ],
   "source": [
    "finalreviews = pd.DataFrame()\n",
    "for i in range(len(products)):\n",
    "    fechas_prueba = finaldf.loc[finaldf[products[i]]>=2]['date']\n",
    "    finalreviews = pd.concat([finalreviews, df.loc[df['product']==products[i]].loc[fechas_prueba]], axis=0)\n",
    "finalreviews"
   ]
  },
  {
   "cell_type": "code",
   "execution_count": 32,
   "metadata": {},
   "outputs": [],
   "source": [
    "df = finalreviews"
   ]
  },
  {
   "cell_type": "markdown",
   "metadata": {},
   "source": [
    "Se hace analisis de texto"
   ]
  },
  {
   "cell_type": "code",
   "execution_count": 33,
   "metadata": {},
   "outputs": [
    {
     "data": {
      "text/plain": [
       "0       \\n\"One Dictator, Seven Slaves\" same-console mu...\n",
       "1       Having one island per console isn't even the w...\n",
       "2       As a secondary island member, it is hard to ra...\n",
       "3       Animal Crossing: New Horizons is a great solo ...\n",
       "4       \\nNintendo made this game so that only one per...\n",
       "                              ...                        \n",
       "7363    \\nNo promises delivered, no campaign changes, ...\n",
       "7364    \\nBlizzard have completely and utterly lost th...\n",
       "7365    \\nIt's kind of impressive how bad they screwed...\n",
       "7366    No custom campaign :( no good conditions for m...\n",
       "7367    \\nFeels more of a downgrade than an upgrade re...\n",
       "Name: review, Length: 7368, dtype: object"
      ]
     },
     "execution_count": 33,
     "metadata": {},
     "output_type": "execute_result"
    }
   ],
   "source": [
    "review = df['review'].dropna().reset_index()\n",
    "review = review['review']\n",
    "review"
   ]
  },
  {
   "cell_type": "code",
   "execution_count": 34,
   "metadata": {},
   "outputs": [],
   "source": [
    "from nltk.tokenize import RegexpTokenizer\n",
    "tokenizer = RegexpTokenizer(r'\\w+')"
   ]
  },
  {
   "cell_type": "code",
   "execution_count": 35,
   "metadata": {},
   "outputs": [],
   "source": [
    "for idx in range(len(review)):\n",
    "    review[idx] = review[idx].lower()  # Convert to lowercase.\n",
    "    review[idx] = tokenizer.tokenize(review[idx])  # Split into words."
   ]
  },
  {
   "cell_type": "code",
   "execution_count": 36,
   "metadata": {},
   "outputs": [],
   "source": [
    "from nltk.corpus import stopwords \n",
    "stop_words_nltk = set(stopwords.words('english'))"
   ]
  },
  {
   "cell_type": "code",
   "execution_count": 37,
   "metadata": {},
   "outputs": [],
   "source": [
    "review = [[token for token in doc if not token.isnumeric()] for doc in review]\n",
    "review = [[token for token in doc if len(token) > 1] for doc in review]\n",
    "review = [[token for token in doc if token not in stop_words_nltk] for doc in review]\n",
    "review = [[token for token in doc if token != \"nan\"] for doc in review]\n",
    "review = [[token for token in doc if token != \"game\"] for doc in review]"
   ]
  },
  {
   "cell_type": "code",
   "execution_count": 38,
   "metadata": {},
   "outputs": [],
   "source": [
    "from nltk.stem.wordnet import WordNetLemmatizer\n",
    "lemmatizer = WordNetLemmatizer()\n",
    "review = [[lemmatizer.lemmatize(token) for token in doc] for doc in review]"
   ]
  },
  {
   "cell_type": "code",
   "execution_count": 39,
   "metadata": {},
   "outputs": [],
   "source": [
    "import gensim\n",
    "from gensim.models import Phrases\n",
    "\n",
    "# Add bigrams and trigrams to docs (only ones that appear 20 times or more).\n",
    "bigram = Phrases(review, min_count=20)\n",
    "for idx in range(len(review)):\n",
    "    for token in bigram[review[idx]]:\n",
    "        if '_' in token:\n",
    "            # Token is a bigram, add to document.\n",
    "            review[idx].append(token)"
   ]
  },
  {
   "cell_type": "code",
   "execution_count": 40,
   "metadata": {},
   "outputs": [],
   "source": [
    "# Remove rare and common tokens.\n",
    "from gensim.corpora import Dictionary\n",
    "\n",
    "# Create a dictionary representation of the documents.\n",
    "dictionary = Dictionary(review)\n",
    "\n",
    "# Filter out words that occur less than 20 documents, or more than 50% of the documents.\n",
    "dictionary.filter_extremes(no_below=20, no_above=0.9)"
   ]
  },
  {
   "cell_type": "code",
   "execution_count": 41,
   "metadata": {},
   "outputs": [],
   "source": [
    "# Bag-of-words representation of the documents.\n",
    "corpus = [dictionary.doc2bow(doc) for doc in review]"
   ]
  },
  {
   "cell_type": "code",
   "execution_count": 42,
   "metadata": {},
   "outputs": [
    {
     "name": "stdout",
     "output_type": "stream",
     "text": [
      "Number of unique tokens: 2498\n",
      "Number of documents: 7368\n"
     ]
    }
   ],
   "source": [
    "print('Number of unique tokens: %d' % len(dictionary))\n",
    "print('Number of documents: %d' % len(corpus))"
   ]
  },
  {
   "cell_type": "code",
   "execution_count": 43,
   "metadata": {},
   "outputs": [
    {
     "name": "stdout",
     "output_type": "stream",
     "text": [
      "50.71716928482056\n"
     ]
    }
   ],
   "source": [
    "from gensim.models.ldamulticore import LdaMulticore\n",
    "# Set training parameters.\n",
    "# amount = len(df['product'].unique())+1\n",
    "amount = 2\n",
    "num_topics = amount\n",
    "chunksize = 2000\n",
    "passes = 20\n",
    "iterations = 20\n",
    "eval_every = None  # Don't evaluate model perplexity, takes too much time.\n",
    "workers = 70\n",
    "\n",
    "t0 = time.time()\n",
    "\n",
    "lda = LdaMulticore(corpus, num_topics=num_topics, id2word = dictionary, passes=passes, workers=workers)\n",
    "print(time.time()-t0)\n",
    "\n",
    "# Make a index to word dictionary.\n",
    "temp = dictionary[0]  # This is only to \"load\" the dictionary."
   ]
  },
  {
   "cell_type": "code",
   "execution_count": 44,
   "metadata": {},
   "outputs": [
    {
     "name": "stdout",
     "output_type": "stream",
     "text": [
      "Average topic coherence: -1.6890.\n",
      "[([(0.019049399, 'pokemon'),\n",
      "   (0.013388933, 'game'),\n",
      "   (0.011553468, 'like'),\n",
      "   (0.008364337, 'new'),\n",
      "   (0.0071862224, 'even'),\n",
      "   (0.00665939, 'story'),\n",
      "   (0.0063937865, 'graphic'),\n",
      "   (0.006340538, 'one'),\n",
      "   (0.0061729285, 'time'),\n",
      "   (0.0060487306, 'good'),\n",
      "   (0.0060223644, 'animation'),\n",
      "   (0.00582607, 'pokémon'),\n",
      "   (0.005443664, 'feel'),\n",
      "   (0.0053620217, 'mod'),\n",
      "   (0.0052569574, 'look'),\n",
      "   (0.0052133463, 'make'),\n",
      "   (0.0050859475, 'best'),\n",
      "   (0.00502211, 'really'),\n",
      "   (0.004814693, 'much'),\n",
      "   (0.004534513, 'area')],\n",
      "  -1.6637072217178934),\n",
      " ([(0.011766592, 'like'),\n",
      "   (0.010136529, 'one'),\n",
      "   (0.009351606, 'play'),\n",
      "   (0.008758345, 'fallout'),\n",
      "   (0.0075930483, 'get'),\n",
      "   (0.0071670525, 'new'),\n",
      "   (0.006493646, 'even'),\n",
      "   (0.006243016, 'time'),\n",
      "   (0.006232635, 'really'),\n",
      "   (0.006068113, 'make'),\n",
      "   (0.006042805, 'people'),\n",
      "   (0.0059895352, 'island'),\n",
      "   (0.005759691, 'good'),\n",
      "   (0.0057567037, 'player'),\n",
      "   (0.0057044877, 'game'),\n",
      "   (0.0052085477, 'would'),\n",
      "   (0.005116839, 'thing'),\n",
      "   (0.005099805, 'blizzard'),\n",
      "   (0.004716721, 'trash'),\n",
      "   (0.0046739327, 'much')],\n",
      "  -1.7142857608418662)]\n"
     ]
    }
   ],
   "source": [
    "top_topics = lda.top_topics(corpus) #, num_words=20)\n",
    "\n",
    "# Average topic coherence is the sum of topic coherences of all topics, divided by the number of topics.\n",
    "avg_topic_coherence = sum([t[1] for t in top_topics]) / num_topics\n",
    "print('Average topic coherence: %.4f.' % avg_topic_coherence)\n",
    "\n",
    "from pprint import pprint\n",
    "pprint(top_topics)"
   ]
  },
  {
   "cell_type": "code",
   "execution_count": 45,
   "metadata": {},
   "outputs": [
    {
     "name": "stdout",
     "output_type": "stream",
     "text": [
      "7.392852306365967\n"
     ]
    },
    {
     "data": {
      "text/html": [
       "\n",
       "<link rel=\"stylesheet\" type=\"text/css\" href=\"https://cdn.rawgit.com/bmabey/pyLDAvis/files/ldavis.v1.0.0.css\">\n",
       "\n",
       "\n",
       "<div id=\"ldavis_el1060013169158583763309429899\"></div>\n",
       "<script type=\"text/javascript\">\n",
       "\n",
       "var ldavis_el1060013169158583763309429899_data = {\"mdsDat\": {\"x\": [0.06510011851787567, -0.06510011851787567], \"y\": [0.0, 0.0], \"topics\": [1, 2], \"cluster\": [1, 1], \"Freq\": [61.864715576171875, 38.135292053222656]}, \"tinfo\": {\"Term\": [\"pokemon\", \"pok\\u00e9mon\", \"animation\", \"game\", \"island\", \"battle\", \"area\", \"mod\", \"trash\", \"fallout\", \"cut\", \"wild\", \"blizzard\", \"model\", \"gear\", \"move\", \"gamefreak\", \"sword\", \"wild_area\", \"content\", \"3d\", \"franchise\", \"previous\", \"quality\", \"shield\", \"generation\", \"gym\", \"dex\", \"best\", \"design\", \"trash\", \"one_island\", \"animal_crossing\", \"island\", \"crossing\", \"per_switch\", \"per_console\", \"animal\", \"kojima\", \"villager\", \"new_leaf\", \"second_player\", \"relaxing\", \"new_horizon\", \"family\", \"island_per\", \"household\", \"resident\", \"walking_simulator\", \"ac\", \"stranding\", \"first_person\", \"russian\", \"death_stranding\", \"delivery\", \"per\", \"local\", \"horizon\", \"share_island\", \"museum\", \"blizzard\", \"warcraft\", \"simulator\", \"account\", \"fallout\", \"refund\", \"reforged\", \"pc\", \"progress\", \"oblivion\", \"activision\", \"mouse\", \"person\", \"crafting\", \"menu\", \"skyrim\", \"quest\", \"play\", \"player\", \"system\", \"people\", \"multiplayer\", \"review\", \"buy\", \"playing\", \"want\", \"get\", \"one\", \"rpg\", \"like\", \"bethesda\", \"console\", \"first\", \"really\", \"would\", \"thing\", \"make\", \"hour\", \"time\", \"new\", \"even\", \"good\", \"great\", \"much\", \"world\", \"game\", \"graphic\", \"feel\", \"bad\", \"story\", \"pokemon\", \"gamefreak\", \"wild_area\", \"gym\", \"dex\", \"shield\", \"pok\\u00e9mon\", \"national\", \"sun_moon\", \"sword_shield\", \"paid_mod\", \"national_dex\", \"freak\", \"dynamax\", \"battle\", \"exp\", \"trainer\", \"exp_share\", \"pokedex\", \"pokemon_sword\", \"mega_evolution\", \"mega\", \"sword\", \"raid\", \"mainline\", \"sun\", \"let_go\", \"valve\", \"wild\", \"rival\", \"3d\", \"route\", \"moon\", \"animation\", \"cut\", \"evolution\", \"gear\", \"area\", \"generation\", \"model\", \"move\", \"mod\", \"franchise\", \"quality\", \"content\", \"game\", \"short\", \"previous\", \"half\", \"design\", \"paid\", \"best\", \"story\", \"like\", \"new\", \"look\", \"graphic\", \"series\", \"even\", \"feel\", \"good\", \"time\", \"one\", \"character\", \"better\", \"make\", \"much\", \"really\", \"many\", \"also\", \"great\", \"lot\", \"bad\", \"get\"], \"Freq\": [2478.0, 760.0, 806.0, 2944.0, 1266.0, 546.0, 620.0, 820.0, 996.0, 1951.0, 529.0, 435.0, 1099.0, 441.0, 401.0, 489.0, 334.0, 334.0, 322.0, 605.0, 317.0, 453.0, 614.0, 424.0, 263.0, 259.0, 231.0, 228.0, 1172.0, 466.0, 994.8721313476562, 369.7708435058594, 435.67645263671875, 1263.3399658203125, 438.4874572753906, 154.17494201660156, 159.21824645996094, 466.6121826171875, 322.8642578125, 91.04783630371094, 88.98209381103516, 78.8648681640625, 93.00907135009766, 115.24140167236328, 202.17884826660156, 70.71770477294922, 67.65870666503906, 72.70597839355469, 89.87466430664062, 86.81761932373047, 100.93606567382812, 111.0035400390625, 78.70156860351562, 97.85494232177734, 69.512939453125, 495.4233093261719, 61.391544342041016, 133.87600708007812, 46.27677536010742, 46.26923751831055, 1075.6739501953125, 347.99249267578125, 162.32093811035156, 270.2466125488281, 1847.3497314453125, 288.2794189453125, 236.77442932128906, 583.4087524414062, 238.14788818359375, 472.5845947265625, 163.71641540527344, 179.97195434570312, 359.5774841308594, 265.6481628417969, 224.93032836914062, 761.316650390625, 671.1762084960938, 1972.4830322265625, 1214.22998046875, 951.9979248046875, 1274.5758056640625, 343.1020202636719, 798.9743041992188, 818.5537719726562, 903.1154174804688, 935.1832275390625, 1601.5601806640625, 2138.04248046875, 550.68115234375, 2481.86279296875, 888.6680297851562, 776.0892333984375, 980.06298828125, 1314.6156005859375, 1098.6104736328125, 1079.266845703125, 1279.913818359375, 855.7521362304688, 1316.8052978515625, 1511.7071533203125, 1369.6693115234375, 1214.860107421875, 970.6083374023438, 985.8470458984375, 865.965087890625, 1203.2164306640625, 983.5833129882812, 919.9110107421875, 858.20703125, 859.0966796875, 2476.808349609375, 333.9570617675781, 321.5295715332031, 231.11940002441406, 228.24253845214844, 262.3424987792969, 757.50732421875, 154.83477783203125, 132.0085906982422, 135.8024139404297, 162.38323974609375, 128.18838500976562, 199.3697509765625, 119.59651184082031, 543.8756103515625, 125.26103210449219, 108.15615844726562, 104.34381103515625, 99.57521057128906, 102.39151763916016, 85.32077026367188, 115.60113525390625, 332.5714416503906, 106.08836364746094, 86.1798095703125, 147.6512451171875, 111.62924194335938, 157.9631805419922, 431.27783203125, 69.96166229248047, 311.8617248535156, 161.3681640625, 151.046630859375, 783.0296020507812, 511.2669372558594, 154.40554809570312, 388.4233093261719, 589.5787353515625, 251.42027282714844, 415.5666198730469, 438.1192932128906, 697.171630859375, 387.8062438964844, 362.0403137207031, 479.76312255859375, 1740.8330078125, 255.14064025878906, 459.7276916503906, 269.7441711425781, 354.1351623535156, 271.9780578613281, 661.2764282226562, 865.8558349609375, 1502.185302734375, 1087.5335693359375, 683.5111694335938, 831.322021484375, 490.71197509765625, 934.354736328125, 707.7868041992188, 786.457763671875, 802.6060180664062, 824.398681640625, 581.4146728515625, 562.7365112304688, 677.8408203125, 626.0078125, 652.9762573242188, 536.9989013671875, 536.9319458007812, 557.2828369140625, 516.3558349609375, 521.3541259765625, 513.0540161132812], \"Total\": [2478.0, 760.0, 806.0, 2944.0, 1266.0, 546.0, 620.0, 820.0, 996.0, 1951.0, 529.0, 435.0, 1099.0, 441.0, 401.0, 489.0, 334.0, 334.0, 322.0, 605.0, 317.0, 453.0, 614.0, 424.0, 263.0, 259.0, 231.0, 228.0, 1172.0, 466.0, 996.1771850585938, 370.7201843261719, 436.9142761230469, 1266.9964599609375, 439.95361328125, 154.77760314941406, 159.8679656982422, 469.4031982421875, 324.8073425292969, 91.6192398071289, 89.57925415039062, 79.3980484008789, 93.64996337890625, 116.05061340332031, 203.61575317382812, 71.24827575683594, 68.19230651855469, 73.28137969970703, 90.58949279785156, 87.53247833251953, 101.78526306152344, 111.9642105102539, 79.38396453857422, 98.72747039794922, 70.21475982666016, 500.80419921875, 62.06671905517578, 135.357421875, 46.799869537353516, 46.79941940307617, 1099.5703125, 353.11407470703125, 164.8274688720703, 276.6224365234375, 1951.8505859375, 295.89483642578125, 242.06228637695312, 618.963134765625, 245.95887756347656, 499.3539123535156, 167.77969360351562, 185.02947998046875, 379.60040283203125, 277.28497314453125, 233.6754913330078, 835.3711547851562, 737.1083374023438, 2296.54638671875, 1414.5904541015625, 1110.782470703125, 1551.98046875, 373.7808532714844, 947.4664306640625, 980.192138671875, 1099.088134765625, 1146.9169921875, 2114.6142578125, 2962.441162109375, 647.4071655273438, 3984.048095703125, 1170.671875, 999.4345092773438, 1349.1473388671875, 1967.591796875, 1581.81689453125, 1562.462646484375, 1957.754638671875, 1152.361572265625, 2119.411376953125, 2599.24072265625, 2304.02392578125, 2001.31787109375, 1527.89111328125, 1611.8548583984375, 1290.381591796875, 2944.04931640625, 1814.9052734375, 1627.69775390625, 1379.5611572265625, 1724.9525146484375, 2478.48974609375, 334.8821716308594, 322.4835205078125, 231.8422393798828, 228.9805450439453, 263.3376159667969, 760.4805908203125, 155.52169799804688, 132.62330627441406, 136.4397430419922, 163.1571044921875, 128.80703735351562, 200.37704467773438, 120.22250366210938, 546.7823486328125, 125.94910430908203, 108.77410888671875, 104.9583740234375, 100.18795776367188, 103.05172729492188, 85.87543487548828, 116.41395568847656, 334.9699401855469, 106.87284851074219, 86.8333969116211, 148.87234497070312, 112.6091079711914, 159.3771209716797, 435.2348937988281, 70.61539459228516, 317.0173034667969, 163.21986389160156, 152.7158660888672, 806.6143188476562, 529.6324462890625, 156.56114196777344, 401.4622497558594, 620.0740966796875, 259.99273681640625, 441.3828430175781, 489.76605224609375, 820.5816650390625, 453.451416015625, 424.6408386230469, 605.1098022460938, 2944.04931640625, 290.29412841796875, 614.6173706054688, 322.91888427734375, 466.9409484863281, 328.8801574707031, 1172.4345703125, 1724.9525146484375, 3984.048095703125, 2599.24072265625, 1309.4703369140625, 1814.9052734375, 795.8829345703125, 2304.02392578125, 1627.69775390625, 2001.31787109375, 2119.411376953125, 2962.441162109375, 1316.3994140625, 1224.964111328125, 1957.754638671875, 1611.8548583984375, 1967.591796875, 1104.466552734375, 1205.3236083984375, 1527.89111328125, 1078.3623046875, 1379.5611572265625, 2114.6142578125], \"Category\": [\"Default\", \"Default\", \"Default\", \"Default\", \"Default\", \"Default\", \"Default\", \"Default\", \"Default\", \"Default\", \"Default\", \"Default\", \"Default\", \"Default\", \"Default\", \"Default\", \"Default\", \"Default\", \"Default\", \"Default\", \"Default\", \"Default\", \"Default\", \"Default\", \"Default\", \"Default\", \"Default\", \"Default\", \"Default\", \"Default\", \"Topic1\", \"Topic1\", \"Topic1\", \"Topic1\", \"Topic1\", \"Topic1\", \"Topic1\", \"Topic1\", \"Topic1\", \"Topic1\", \"Topic1\", \"Topic1\", \"Topic1\", \"Topic1\", \"Topic1\", \"Topic1\", \"Topic1\", \"Topic1\", \"Topic1\", \"Topic1\", \"Topic1\", \"Topic1\", \"Topic1\", \"Topic1\", \"Topic1\", \"Topic1\", \"Topic1\", \"Topic1\", \"Topic1\", \"Topic1\", \"Topic1\", \"Topic1\", \"Topic1\", \"Topic1\", \"Topic1\", \"Topic1\", \"Topic1\", \"Topic1\", \"Topic1\", \"Topic1\", \"Topic1\", \"Topic1\", \"Topic1\", \"Topic1\", \"Topic1\", \"Topic1\", \"Topic1\", \"Topic1\", \"Topic1\", \"Topic1\", \"Topic1\", \"Topic1\", \"Topic1\", \"Topic1\", \"Topic1\", \"Topic1\", \"Topic1\", \"Topic1\", \"Topic1\", \"Topic1\", \"Topic1\", \"Topic1\", \"Topic1\", \"Topic1\", \"Topic1\", \"Topic1\", \"Topic1\", \"Topic1\", \"Topic1\", \"Topic1\", \"Topic1\", \"Topic1\", \"Topic1\", \"Topic1\", \"Topic1\", \"Topic1\", \"Topic1\", \"Topic1\", \"Topic1\", \"Topic1\", \"Topic2\", \"Topic2\", \"Topic2\", \"Topic2\", \"Topic2\", \"Topic2\", \"Topic2\", \"Topic2\", \"Topic2\", \"Topic2\", \"Topic2\", \"Topic2\", \"Topic2\", \"Topic2\", \"Topic2\", \"Topic2\", \"Topic2\", \"Topic2\", \"Topic2\", \"Topic2\", \"Topic2\", \"Topic2\", \"Topic2\", \"Topic2\", \"Topic2\", \"Topic2\", \"Topic2\", \"Topic2\", \"Topic2\", \"Topic2\", \"Topic2\", \"Topic2\", \"Topic2\", \"Topic2\", \"Topic2\", \"Topic2\", \"Topic2\", \"Topic2\", \"Topic2\", \"Topic2\", \"Topic2\", \"Topic2\", \"Topic2\", \"Topic2\", \"Topic2\", \"Topic2\", \"Topic2\", \"Topic2\", \"Topic2\", \"Topic2\", \"Topic2\", \"Topic2\", \"Topic2\", \"Topic2\", \"Topic2\", \"Topic2\", \"Topic2\", \"Topic2\", \"Topic2\", \"Topic2\", \"Topic2\", \"Topic2\", \"Topic2\", \"Topic2\", \"Topic2\", \"Topic2\", \"Topic2\", \"Topic2\", \"Topic2\", \"Topic2\", \"Topic2\", \"Topic2\", \"Topic2\", \"Topic2\"], \"logprob\": [30.0, 29.0, 28.0, 27.0, 26.0, 25.0, 24.0, 23.0, 22.0, 21.0, 20.0, 19.0, 18.0, 17.0, 16.0, 15.0, 14.0, 13.0, 12.0, 11.0, 10.0, 9.0, 8.0, 7.0, 6.0, 5.0, 4.0, 3.0, 2.0, 1.0, -5.356599807739258, -6.346399784088135, -6.182400226593018, -5.117700099945068, -6.175899982452393, -7.221199989318848, -7.189000129699707, -6.113800048828125, -6.48199987411499, -7.747900009155273, -7.7708001136779785, -7.891499996185303, -7.726600170135498, -7.512199878692627, -6.950099945068359, -8.00059986114502, -8.0447998046875, -7.972799777984619, -7.760799884796143, -7.795400142669678, -7.644800186157227, -7.549699783325195, -7.893599987030029, -7.67579984664917, -8.0177001953125, -6.053800106048584, -8.142000198364258, -7.362299919128418, -8.424599647521973, -8.424799919128418, -5.278600215911865, -6.407100200653076, -7.1697001457214355, -6.659900188446045, -4.73769998550415, -6.595300197601318, -6.792099952697754, -5.890399932861328, -6.786399841308594, -6.10099983215332, -7.161099910736084, -7.066500186920166, -6.374300003051758, -6.67710018157959, -6.843500137329102, -5.624199867248535, -5.750199794769287, -4.6722002029418945, -5.157400131225586, -5.400700092315674, -5.10890007019043, -6.421199798583984, -5.575900077819824, -5.551700115203857, -5.453400135040283, -5.418499946594238, -4.880499839782715, -4.591599941253662, -5.9481000900268555, -4.442500114440918, -5.4695000648498535, -5.605000019073486, -5.371600151062012, -5.078000068664551, -5.257500171661377, -5.275199890136719, -5.104700088500977, -5.507299900054932, -5.076300144195557, -4.938300132751465, -5.036900043487549, -5.156899929046631, -5.38129997253418, -5.365799903869629, -5.4953999519348145, -5.166500091552734, -5.368100166320801, -5.434999942779541, -5.50439977645874, -5.503399848937988, -3.960700035095215, -5.964399814605713, -6.002399921417236, -6.332499980926514, -6.34499979019165, -6.2058000564575195, -5.145400047302246, -6.733099937438965, -6.892600059509277, -6.864200115203857, -6.685500144958496, -6.921899795532227, -6.480299949645996, -6.991300106048584, -5.4766998291015625, -6.945000171661377, -7.091899871826172, -7.127799987792969, -7.174499988555908, -7.146599769592285, -7.328999996185303, -7.025300025939941, -5.968599796295166, -7.111199855804443, -7.318999767303467, -6.780600070953369, -7.060299873352051, -6.713099956512451, -5.708700180053711, -7.527500152587891, -6.032899856567383, -6.691800117492676, -6.757900238037109, -5.112299919128418, -5.538599967956543, -6.735899925231934, -5.813399791717529, -5.395999908447266, -6.248300075531006, -5.745800018310547, -5.692999839782715, -5.228400230407715, -5.814899921417236, -5.883699893951416, -5.602200031280518, -4.313300132751465, -6.23360013961792, -5.644800186157227, -6.177999973297119, -5.905799865722656, -6.1697001457214355, -5.281300067901611, -5.01170015335083, -4.4608001708984375, -4.78380012512207, -5.248199939727783, -5.0524001121521, -5.579599857330322, -4.9355998039245605, -5.2133002281188965, -5.107900142669678, -5.087600231170654, -5.060800075531006, -5.409999847412109, -5.442599773406982, -5.256499767303467, -5.336100101470947, -5.293900012969971, -5.4893999099731445, -5.48960018157959, -5.452400207519531, -5.528600215911865, -5.519000053405762, -5.535099983215332], \"loglift\": [30.0, 29.0, 28.0, 27.0, 26.0, 25.0, 24.0, 23.0, 22.0, 21.0, 20.0, 19.0, 18.0, 17.0, 16.0, 15.0, 14.0, 13.0, 12.0, 11.0, 10.0, 9.0, 8.0, 7.0, 6.0, 5.0, 4.0, 3.0, 2.0, 1.0, 0.4788999855518341, 0.47769999504089355, 0.477400004863739, 0.4772999882698059, 0.47690001130104065, 0.4763000011444092, 0.47609999775886536, 0.47429999709129333, 0.4742000102996826, 0.4740000069141388, 0.47350001335144043, 0.47350001335144043, 0.4733999967575073, 0.4731999933719635, 0.4731000065803528, 0.47269999980926514, 0.4724000096321106, 0.4722999930381775, 0.4722999930381775, 0.47200000286102295, 0.4717999994754791, 0.4715999960899353, 0.4715999960899353, 0.47130000591278076, 0.4702000021934509, 0.46939998865127563, 0.4693000018596649, 0.4691999852657318, 0.4690000116825104, 0.46880000829696655, 0.45820000767707825, 0.46560001373291016, 0.4648999869823456, 0.4569000005722046, 0.4251999855041504, 0.45410001277923584, 0.45809999108314514, 0.421099990606308, 0.4478999972343445, 0.4250999987125397, 0.45570001006126404, 0.45249998569488525, 0.4259999990463257, 0.4372999966144562, 0.44209998846054077, 0.3874000012874603, 0.3865000009536743, 0.3280999958515167, 0.32749998569488525, 0.32600000500679016, 0.2833000123500824, 0.3946000039577484, 0.30979999899864197, 0.30000001192092896, 0.28380000591278076, 0.2761000096797943, 0.20229999721050262, 0.15410000085830688, 0.31839999556541443, 0.006899999920278788, 0.2046000063419342, 0.2273000031709671, 0.16060000658035278, 0.07699999958276749, 0.11569999903440475, 0.11020000278949738, 0.0551999993622303, 0.1826000064611435, 0.00430000014603138, -0.061799999326467514, -0.039900001138448715, -0.01899999938905239, 0.026499999687075615, -0.01140000019222498, 0.08139999955892563, -0.4146000146865845, -0.1324000060558319, -0.09040000289678574, 0.005499999970197678, -0.21690000593662262, 0.9634000062942505, 0.9613000154495239, 0.9610999822616577, 0.9609000086784363, 0.9607999920845032, 0.9602000117301941, 0.960099995136261, 0.9595999717712402, 0.9593999981880188, 0.9592999815940857, 0.9592999815940857, 0.9592000246047974, 0.9589999914169312, 0.9588000178337097, 0.9587000012397766, 0.9585999846458435, 0.958299994468689, 0.9581999778747559, 0.9578999876976013, 0.9575999975204468, 0.9575999975204468, 0.9570000171661377, 0.9567999839782715, 0.9567000269889832, 0.9564999938011169, 0.9557999968528748, 0.955299973487854, 0.9550999999046326, 0.9549000263214111, 0.9546999931335449, 0.9476000070571899, 0.9526000022888184, 0.953000009059906, 0.9344000220298767, 0.9286999702453613, 0.9502000212669373, 0.9309999942779541, 0.9136000275611877, 0.9304999709129333, 0.9038000106811523, 0.8525999784469604, 0.8009999990463257, 0.8076000213623047, 0.8044999837875366, 0.7318999767303467, 0.43860000371932983, 0.8349999785423279, 0.6736999750137329, 0.7840999960899353, 0.6875, 0.7741000056266785, 0.391400009393692, 0.27480000257492065, -0.011300000362098217, 0.09269999712705612, 0.3138999938964844, 0.18330000340938568, 0.4803999960422516, 0.061500001698732376, 0.13130000233650208, 0.029999999329447746, -0.007000000216066837, -0.3151000142097473, 0.1467999964952469, 0.18619999289512634, -0.0966000035405159, 0.018300000578165054, -0.13899999856948853, 0.24289999902248383, 0.15539999306201935, -0.04450000077486038, 0.22759999334812164, -0.009100000374019146, -0.4521999955177307]}, \"token.table\": {\"Topic\": [1, 2, 1, 2, 1, 2, 1, 2, 1, 2, 1, 2, 1, 2, 1, 2, 1, 2, 1, 2, 1, 2, 1, 2, 1, 2, 1, 2, 1, 2, 1, 2, 1, 2, 1, 2, 1, 2, 1, 2, 1, 2, 1, 2, 1, 2, 1, 2, 1, 2, 1, 2, 1, 2, 1, 2, 1, 2, 1, 2, 1, 2, 1, 2, 1, 2, 1, 2, 1, 2, 1, 2, 1, 2, 1, 2, 1, 2, 1, 2, 1, 2, 1, 2, 1, 2, 1, 2, 1, 2, 1, 2, 1, 2, 1, 2, 1, 2, 1, 2, 1, 2, 1, 2, 1, 2, 1, 2, 1, 2, 1, 2, 1, 2, 1, 2, 1, 2, 1, 2, 1, 2, 1, 2, 1, 2, 1, 2, 1, 2, 1, 2, 1, 2, 1, 2, 1, 2, 1, 2, 1, 2, 1, 2, 1, 2, 1, 2, 1, 2, 1, 2, 1, 2, 1, 2, 1, 2, 1, 2, 1, 2, 1, 2, 1, 2, 1, 2, 1, 2, 1, 2, 1, 2, 1, 2, 1, 2, 1, 2, 1, 2, 1, 2, 1, 2, 1, 2, 1, 2, 1, 2, 1, 2, 1, 2, 1, 2, 1, 2, 1, 2, 1, 2, 1, 2, 1, 2, 1, 2, 1, 2, 1, 2, 1, 2, 1, 2, 1, 2, 1, 2, 1, 2, 1, 2, 1, 2, 1, 2, 1, 2, 1, 2, 1, 2, 1, 2, 1, 2, 1, 2, 1, 2, 1, 2, 1, 2, 1, 2, 1, 2, 1, 2, 1, 2, 1, 2, 1, 2, 1, 2, 1, 2, 1, 2, 1, 2, 1, 2, 1, 2, 1, 2, 1, 2], \"Freq\": [0.015772009268403053, 0.9841734170913696, 0.9939168095588684, 0.011424330994486809, 0.9760596752166748, 0.021690214052796364, 0.9774723052978516, 0.023840786889195442, 0.5542080402374268, 0.4455235004425049, 0.9948803186416626, 0.0063910940662026405, 0.9979074001312256, 0.002288778545334935, 0.029753996059298515, 0.9707241654396057, 0.04838131368160248, 0.9514991641044617, 0.6219369173049927, 0.37765634059906006, 0.005486643873155117, 0.9949114322662354, 0.4358452260494232, 0.563784122467041, 0.7593929767608643, 0.24088731408119202, 0.5404239892959595, 0.45960530638694763, 0.9785640835762024, 0.02182670868933201, 0.8355504870414734, 0.1652737259864807, 0.5583412051200867, 0.4413554072380066, 0.7764390707015991, 0.22312617301940918, 0.20657408237457275, 0.793244481086731, 0.9593018889427185, 0.04327677562832832, 0.9955595135688782, 0.0022729667834937572, 0.03398583456873894, 0.9648200273513794, 0.9926315546035767, 0.010128892958164215, 0.9969413876533508, 0.0142420195043087, 0.24200062453746796, 0.7581258416175842, 0.004367183428257704, 0.9957177639007568, 0.008317910134792328, 0.9981492161750793, 0.5946118831634521, 0.40537774562835693, 0.012774561531841755, 0.9836412668228149, 0.007939714938402176, 0.9924643635749817, 0.00952758640050888, 0.9908689856529236, 0.9462814331054688, 0.05379510298371315, 0.9920647144317627, 0.00491121131926775, 0.565215528011322, 0.4349702000617981, 0.726384699344635, 0.2735060751438141, 0.991388201713562, 0.008931425400078297, 0.14555032551288605, 0.8556594848632812, 0.0049905916675925255, 0.993127703666687, 0.4086208641529083, 0.5913623571395874, 0.002986124949529767, 0.9973657131195068, 0.03238162398338318, 0.9664669632911682, 0.03461635112762451, 0.9654116034507751, 0.7575849890708923, 0.24259743094444275, 0.6070999503135681, 0.39274120330810547, 0.5421770811080933, 0.45787513256073, 0.6355164647102356, 0.364554762840271, 0.004313278011977673, 0.9963672161102295, 0.1641279011964798, 0.8361232876777649, 0.9899715781211853, 0.007387847639620304, 0.7428224086761475, 0.2577316164970398, 0.9971799254417419, 0.01466441061347723, 0.9968457221984863, 0.003157072700560093, 0.9965153336524963, 0.014035427011549473, 0.9944356679916382, 0.006157496478408575, 0.00888027623295784, 0.9945909380912781, 0.6229844689369202, 0.3770034909248352, 0.9828133583068848, 0.016111694276332855, 0.4780558943748474, 0.5223485827445984, 0.5211606621742249, 0.47850337624549866, 0.011516306549310684, 0.990402340888977, 0.6538102030754089, 0.3463151156902313, 0.5133699774742126, 0.4862075746059418, 0.008590035140514374, 0.9964441061019897, 0.011644773185253143, 0.9898057579994202, 0.9628737568855286, 0.03851494938135147, 0.14989367127418518, 0.8493974804878235, 0.05890578031539917, 0.9424924850463867, 0.013096216134727001, 0.9887643456459045, 0.9728179574012756, 0.027022721245884895, 0.10617314279079437, 0.8943045139312744, 0.6117175817489624, 0.3883724510669708, 0.9176499843597412, 0.08293629437685013, 0.9829182028770447, 0.021367786452174187, 0.006429970730096102, 0.9966455101966858, 0.007763551082462072, 0.9937345385551453, 0.5817083120346069, 0.41858378052711487, 0.9909469485282898, 0.00861692987382412, 0.9935336112976074, 0.011163298971951008, 0.947223961353302, 0.054069869220256805, 0.7217020988464355, 0.27814897894859314, 0.9980573654174805, 0.0026974522043019533, 0.1733154058456421, 0.8270489573478699, 0.006129061803221703, 0.9929080605506897, 0.9418977499008179, 0.05816178396344185, 0.8215309381484985, 0.17848162353038788, 0.988410234451294, 0.009983941912651062, 0.9945707321166992, 0.006255161948502064, 0.9949759840965271, 0.006460883188992739, 0.9483656883239746, 0.05268698185682297, 0.8586806654930115, 0.14108140766620636, 0.8581989407539368, 0.14138367772102356, 0.8215901851654053, 0.17832964658737183, 0.009981239214539528, 0.9981239438056946, 0.0008069430477917194, 0.999398946762085, 0.009703864343464375, 0.9897941946983337, 0.003944873809814453, 0.9967381358146667, 0.25218942761421204, 0.7484331130981445, 0.9676414132118225, 0.03252576291561127, 0.14836066961288452, 0.8524851202964783, 0.9103139638900757, 0.08953907340765, 0.009356913156807423, 0.9918328523635864, 0.668329656124115, 0.33187776803970337, 0.9790868163108826, 0.020655840635299683, 0.9733187556266785, 0.0270366333425045, 0.9930596351623535, 0.010678060352802277, 0.9961602687835693, 0.013646031729876995, 0.8433016538619995, 0.15620605647563934, 0.014161217957735062, 0.9912852644920349, 0.012253410182893276, 0.9863995313644409, 0.8510872721672058, 0.14982843399047852, 0.9951632022857666, 0.01259700208902359, 0.9949866533279419, 0.012594767846167088, 0.38322219252586365, 0.6169248819351196, 0.9829087257385254, 0.02136758156120777, 0.0037974065635353327, 0.994920551776886, 0.12056737393140793, 0.8784193992614746, 0.9828459024429321, 0.01820085011422634, 0.9109722971916199, 0.08858337998390198, 0.49798473715782166, 0.502042829990387, 0.9922850728034973, 0.009824604727327824, 0.006717164069414139, 0.9941403269767761, 0.007540152873843908, 0.9953001737594604, 0.005970684811472893, 0.9941190481185913, 0.007329242769628763, 0.9967769980430603, 0.8570535182952881, 0.14314234256744385, 0.6905764937400818, 0.3091273903846741, 0.62139892578125, 0.37887877225875854, 0.009193364530801773, 0.9928833246231079, 0.9988182783126831, 0.0010038374457508326, 0.006274426355957985, 0.9913593530654907, 0.9932411313056946, 0.010914738290011883, 0.9934927225112915, 0.011038808152079582, 0.8152289986610413, 0.18484336137771606, 0.9855172038078308, 0.014159729704260826, 0.009190439246594906, 0.9902698397636414, 0.00310093373991549, 0.998500645160675, 0.6711193323135376, 0.3285849690437317, 0.6947706937789917, 0.3053450882434845], \"Term\": [\"3d\", \"3d\", \"ac\", \"ac\", \"account\", \"account\", \"activision\", \"activision\", \"also\", \"also\", \"animal\", \"animal\", \"animal_crossing\", \"animal_crossing\", \"animation\", \"animation\", \"area\", \"area\", \"bad\", \"bad\", \"battle\", \"battle\", \"best\", \"best\", \"bethesda\", \"bethesda\", \"better\", \"better\", \"blizzard\", \"blizzard\", \"buy\", \"buy\", \"character\", \"character\", \"console\", \"console\", \"content\", \"content\", \"crafting\", \"crafting\", \"crossing\", \"crossing\", \"cut\", \"cut\", \"death_stranding\", \"death_stranding\", \"delivery\", \"delivery\", \"design\", \"design\", \"dex\", \"dex\", \"dynamax\", \"dynamax\", \"even\", \"even\", \"evolution\", \"evolution\", \"exp\", \"exp\", \"exp_share\", \"exp_share\", \"fallout\", \"fallout\", \"family\", \"family\", \"feel\", \"feel\", \"first\", \"first\", \"first_person\", \"first_person\", \"franchise\", \"franchise\", \"freak\", \"freak\", \"game\", \"game\", \"gamefreak\", \"gamefreak\", \"gear\", \"gear\", \"generation\", \"generation\", \"get\", \"get\", \"good\", \"good\", \"graphic\", \"graphic\", \"great\", \"great\", \"gym\", \"gym\", \"half\", \"half\", \"horizon\", \"horizon\", \"hour\", \"hour\", \"household\", \"household\", \"island\", \"island\", \"island_per\", \"island_per\", \"kojima\", \"kojima\", \"let_go\", \"let_go\", \"like\", \"like\", \"local\", \"local\", \"look\", \"look\", \"lot\", \"lot\", \"mainline\", \"mainline\", \"make\", \"make\", \"many\", \"many\", \"mega\", \"mega\", \"mega_evolution\", \"mega_evolution\", \"menu\", \"menu\", \"mod\", \"mod\", \"model\", \"model\", \"moon\", \"moon\", \"mouse\", \"mouse\", \"move\", \"move\", \"much\", \"much\", \"multiplayer\", \"multiplayer\", \"museum\", \"museum\", \"national\", \"national\", \"national_dex\", \"national_dex\", \"new\", \"new\", \"new_horizon\", \"new_horizon\", \"new_leaf\", \"new_leaf\", \"oblivion\", \"oblivion\", \"one\", \"one\", \"one_island\", \"one_island\", \"paid\", \"paid\", \"paid_mod\", \"paid_mod\", \"pc\", \"pc\", \"people\", \"people\", \"per\", \"per\", \"per_console\", \"per_console\", \"per_switch\", \"per_switch\", \"person\", \"person\", \"play\", \"play\", \"player\", \"player\", \"playing\", \"playing\", \"pokedex\", \"pokedex\", \"pokemon\", \"pokemon\", \"pokemon_sword\", \"pokemon_sword\", \"pok\\u00e9mon\", \"pok\\u00e9mon\", \"previous\", \"previous\", \"progress\", \"progress\", \"quality\", \"quality\", \"quest\", \"quest\", \"raid\", \"raid\", \"really\", \"really\", \"reforged\", \"reforged\", \"refund\", \"refund\", \"relaxing\", \"relaxing\", \"resident\", \"resident\", \"review\", \"review\", \"rival\", \"rival\", \"route\", \"route\", \"rpg\", \"rpg\", \"russian\", \"russian\", \"second_player\", \"second_player\", \"series\", \"series\", \"share_island\", \"share_island\", \"shield\", \"shield\", \"short\", \"short\", \"simulator\", \"simulator\", \"skyrim\", \"skyrim\", \"story\", \"story\", \"stranding\", \"stranding\", \"sun\", \"sun\", \"sun_moon\", \"sun_moon\", \"sword\", \"sword\", \"sword_shield\", \"sword_shield\", \"system\", \"system\", \"thing\", \"thing\", \"time\", \"time\", \"trainer\", \"trainer\", \"trash\", \"trash\", \"valve\", \"valve\", \"villager\", \"villager\", \"walking_simulator\", \"walking_simulator\", \"want\", \"want\", \"warcraft\", \"warcraft\", \"wild\", \"wild\", \"wild_area\", \"wild_area\", \"world\", \"world\", \"would\", \"would\"]}, \"R\": 30, \"lambda.step\": 0.01, \"plot.opts\": {\"xlab\": \"PC1\", \"ylab\": \"PC2\"}, \"topic.order\": [1, 2]};\n",
       "\n",
       "function LDAvis_load_lib(url, callback){\n",
       "  var s = document.createElement('script');\n",
       "  s.src = url;\n",
       "  s.async = true;\n",
       "  s.onreadystatechange = s.onload = callback;\n",
       "  s.onerror = function(){console.warn(\"failed to load library \" + url);};\n",
       "  document.getElementsByTagName(\"head\")[0].appendChild(s);\n",
       "}\n",
       "\n",
       "if(typeof(LDAvis) !== \"undefined\"){\n",
       "   // already loaded: just create the visualization\n",
       "   !function(LDAvis){\n",
       "       new LDAvis(\"#\" + \"ldavis_el1060013169158583763309429899\", ldavis_el1060013169158583763309429899_data);\n",
       "   }(LDAvis);\n",
       "}else if(typeof define === \"function\" && define.amd){\n",
       "   // require.js is available: use it to load d3/LDAvis\n",
       "   require.config({paths: {d3: \"https://cdnjs.cloudflare.com/ajax/libs/d3/3.5.5/d3.min\"}});\n",
       "   require([\"d3\"], function(d3){\n",
       "      window.d3 = d3;\n",
       "      LDAvis_load_lib(\"https://cdn.rawgit.com/bmabey/pyLDAvis/files/ldavis.v1.0.0.js\", function(){\n",
       "        new LDAvis(\"#\" + \"ldavis_el1060013169158583763309429899\", ldavis_el1060013169158583763309429899_data);\n",
       "      });\n",
       "    });\n",
       "}else{\n",
       "    // require.js not available: dynamically load d3 & LDAvis\n",
       "    LDAvis_load_lib(\"https://cdnjs.cloudflare.com/ajax/libs/d3/3.5.5/d3.min.js\", function(){\n",
       "         LDAvis_load_lib(\"https://cdn.rawgit.com/bmabey/pyLDAvis/files/ldavis.v1.0.0.js\", function(){\n",
       "                 new LDAvis(\"#\" + \"ldavis_el1060013169158583763309429899\", ldavis_el1060013169158583763309429899_data);\n",
       "            })\n",
       "         });\n",
       "}\n",
       "</script>"
      ],
      "text/plain": [
       "PreparedData(topic_coordinates=            x    y  topics  cluster       Freq\n",
       "topic                                         \n",
       "0      0.0651  0.0       1        1  61.864716\n",
       "1     -0.0651  0.0       2        1  38.135292, topic_info=           Term         Freq        Total Category  logprob  loglift\n",
       "345     pokemon  2478.000000  2478.000000  Default  30.0000  30.0000\n",
       "1931    pokémon   760.000000   760.000000  Default  29.0000  29.0000\n",
       "1574  animation   806.000000   806.000000  Default  28.0000  28.0000\n",
       "44         game  2944.000000  2944.000000  Default  27.0000  27.0000\n",
       "6        island  1266.000000  1266.000000  Default  26.0000  26.0000\n",
       "...         ...          ...          ...      ...      ...      ...\n",
       "82         also   536.931946  1205.323608   Topic2  -5.4896   0.1554\n",
       "141       great   557.282837  1527.891113   Topic2  -5.4524  -0.0445\n",
       "280         lot   516.355835  1078.362305   Topic2  -5.5286   0.2276\n",
       "765         bad   521.354126  1379.561157   Topic2  -5.5190  -0.0091\n",
       "45          get   513.054016  2114.614258   Topic2  -5.5351  -0.4522\n",
       "\n",
       "[184 rows x 6 columns], token_table=      Topic      Freq       Term\n",
       "term                            \n",
       "572       1  0.015772         3d\n",
       "572       2  0.984173         3d\n",
       "13        1  0.993917         ac\n",
       "13        2  0.011424         ac\n",
       "190       1  0.976060    account\n",
       "...     ...       ...        ...\n",
       "1344      2  0.998501  wild_area\n",
       "382       1  0.671119      world\n",
       "382       2  0.328585      world\n",
       "170       1  0.694771      would\n",
       "170       2  0.305345      would\n",
       "\n",
       "[276 rows x 3 columns], R=30, lambda_step=0.01, plot_opts={'xlab': 'PC1', 'ylab': 'PC2'}, topic_order=[1, 2])"
      ]
     },
     "execution_count": 45,
     "metadata": {},
     "output_type": "execute_result"
    }
   ],
   "source": [
    "import pyLDAvis\n",
    "from pyLDAvis import gensim\n",
    "\n",
    "t0 = time.time()\n",
    "pyLDAvis.enable_notebook()\n",
    "vis = gensim.prepare(lda, corpus, dictionary, sort_topics = False)\n",
    "print(time.time()-t0)\n",
    "vis"
   ]
  },
  {
   "cell_type": "code",
   "execution_count": 46,
   "metadata": {},
   "outputs": [],
   "source": [
    "from pprint import pprint"
   ]
  },
  {
   "cell_type": "code",
   "execution_count": 47,
   "metadata": {},
   "outputs": [
    {
     "name": "stdout",
     "output_type": "stream",
     "text": [
      "[(0,\n",
      "  '0.012*\"like\" + 0.010*\"one\" + 0.009*\"play\" + 0.009*\"fallout\" + 0.008*\"get\" + '\n",
      "  '0.007*\"new\" + 0.006*\"even\" + 0.006*\"time\" + 0.006*\"really\" + 0.006*\"make\"'),\n",
      " (1,\n",
      "  '0.019*\"pokemon\" + 0.013*\"game\" + 0.012*\"like\" + 0.008*\"new\" + 0.007*\"even\" '\n",
      "  '+ 0.007*\"story\" + 0.006*\"graphic\" + 0.006*\"one\" + 0.006*\"time\" + '\n",
      "  '0.006*\"good\"')]\n"
     ]
    }
   ],
   "source": [
    "pprint(lda.print_topics())"
   ]
  },
  {
   "cell_type": "code",
   "execution_count": 48,
   "metadata": {},
   "outputs": [
    {
     "data": {
      "text/html": [
       "<div>\n",
       "<style scoped>\n",
       "    .dataframe tbody tr th:only-of-type {\n",
       "        vertical-align: middle;\n",
       "    }\n",
       "\n",
       "    .dataframe tbody tr th {\n",
       "        vertical-align: top;\n",
       "    }\n",
       "\n",
       "    .dataframe thead th {\n",
       "        text-align: right;\n",
       "    }\n",
       "</style>\n",
       "<table border=\"1\" class=\"dataframe\">\n",
       "  <thead>\n",
       "    <tr style=\"text-align: right;\">\n",
       "      <th></th>\n",
       "    </tr>\n",
       "  </thead>\n",
       "  <tbody>\n",
       "  </tbody>\n",
       "</table>\n",
       "</div>"
      ],
      "text/plain": [
       "Empty DataFrame\n",
       "Columns: []\n",
       "Index: []"
      ]
     },
     "execution_count": 48,
     "metadata": {},
     "output_type": "execute_result"
    }
   ],
   "source": [
    "sent_topics_df = pd.DataFrame()\n",
    "sent_topics_df"
   ]
  },
  {
   "cell_type": "code",
   "execution_count": 49,
   "metadata": {},
   "outputs": [],
   "source": [
    "for i, row_list in enumerate(lda[corpus]):\n",
    "    row = row_list[0] if lda.per_word_topics else row_list            \n",
    "    # print(row)\n",
    "    row = sorted(row, key=lambda x: (x[1]), reverse=True)\n",
    "    # Get the Dominant topic, Perc Contribution and Keywords for each document\n",
    "    for j, (topic_num, prop_topic) in enumerate(row):\n",
    "        if j == 0:  # => dominant topic\n",
    "            wp = lda.show_topic(topic_num)\n",
    "            topic_keywords = \", \".join([word for word, prop in wp])\n",
    "            sent_topics_df = sent_topics_df.append(pd.Series([int(topic_num), round(prop_topic,4), topic_keywords]), ignore_index=True)\n",
    "        else:\n",
    "            break\n",
    "sent_topics_df.columns = ['Dominant_Topic', 'Perc_Contribution', 'Topic_Keywords']"
   ]
  },
  {
   "cell_type": "code",
   "execution_count": 50,
   "metadata": {},
   "outputs": [],
   "source": [
    "contents = pd.Series(review)\n",
    "sent_topics_df['Tokenized_review'] = contents\n",
    " "
   ]
  },
  {
   "cell_type": "code",
   "execution_count": null,
   "metadata": {},
   "outputs": [],
   "source": [
    "sent_topics_df.to_excel(r'C:\\Users\\w7\\Desktop\\proyecto integrador\\topics2.xlsx')"
   ]
  },
  {
   "cell_type": "code",
   "execution_count": 51,
   "metadata": {},
   "outputs": [],
   "source": [
    "df = pd.read_excel(r'C:\\Users\\w7\\Desktop\\proyecto integrador\\topics2.xlsx')"
   ]
  },
  {
   "cell_type": "markdown",
   "metadata": {},
   "source": [
    "Se testea la validez del modelo"
   ]
  },
  {
   "cell_type": "code",
   "execution_count": 52,
   "metadata": {},
   "outputs": [],
   "source": [
    "from sklearn.model_selection import train_test_split\n",
    "from sklearn.feature_extraction.text import CountVectorizer\n",
    "from sklearn.feature_extraction.text import TfidfTransformer\n",
    "from sklearn.naive_bayes import MultinomialNB\n",
    "from sklearn import metrics\n"
   ]
  },
  {
   "cell_type": "code",
   "execution_count": 53,
   "metadata": {},
   "outputs": [],
   "source": [
    "X_train, X_test, y_train, y_test = train_test_split(df['Tokenized_review'], df['Dominant_Topic'], random_state = 0)"
   ]
  },
  {
   "cell_type": "code",
   "execution_count": 54,
   "metadata": {},
   "outputs": [],
   "source": [
    "count_vect_nb = CountVectorizer()\n",
    "X_train_counts = count_vect_nb.fit_transform(X_train)\n",
    "tfidf_transformer_nb = TfidfTransformer()\n",
    "X_train_tfidf = tfidf_transformer_nb.fit_transform(X_train_counts)\n",
    "nb = MultinomialNB().fit(X_train_tfidf, y_train)\n",
    "y_predecido = nb.predict(count_vect_nb.transform(X_test))"
   ]
  },
  {
   "cell_type": "code",
   "execution_count": 55,
   "metadata": {},
   "outputs": [
    {
     "name": "stdout",
     "output_type": "stream",
     "text": [
      "              precision    recall  f1-score   support\n",
      "\n",
      "           0       0.89      0.99      0.94      1029\n",
      "           1       0.99      0.85      0.91       813\n",
      "\n",
      "    accuracy                           0.93      1842\n",
      "   macro avg       0.94      0.92      0.93      1842\n",
      "weighted avg       0.94      0.93      0.93      1842\n",
      "\n"
     ]
    }
   ],
   "source": [
    "print(metrics.classification_report(y_test, y_predecido))"
   ]
  },
  {
   "cell_type": "code",
   "execution_count": 56,
   "metadata": {},
   "outputs": [],
   "source": [
    "from sklearn.neighbors import KNeighborsClassifier\n",
    "knn = KNeighborsClassifier(n_neighbors=5)"
   ]
  },
  {
   "cell_type": "code",
   "execution_count": 57,
   "metadata": {},
   "outputs": [],
   "source": [
    "tfidf_transformer_knn = TfidfTransformer()\n",
    "count_vect_knn = CountVectorizer()\n",
    "x_knn_tfidf = count_vect_knn.fit_transform(X_train)\n",
    "knn = knn.fit(x_knn_tfidf, y_train)\n"
   ]
  },
  {
   "cell_type": "code",
   "execution_count": 58,
   "metadata": {},
   "outputs": [],
   "source": [
    "y_pred_knn = knn.predict(count_vect_knn.transform(X_test))"
   ]
  },
  {
   "cell_type": "code",
   "execution_count": 59,
   "metadata": {},
   "outputs": [
    {
     "name": "stdout",
     "output_type": "stream",
     "text": [
      "              precision    recall  f1-score   support\n",
      "\n",
      "           0       0.73      0.91      0.81      1029\n",
      "           1       0.83      0.58      0.68       813\n",
      "\n",
      "    accuracy                           0.76      1842\n",
      "   macro avg       0.78      0.74      0.75      1842\n",
      "weighted avg       0.77      0.76      0.75      1842\n",
      "\n"
     ]
    }
   ],
   "source": [
    "print(metrics.classification_report(y_test, y_pred_knn))"
   ]
  },
  {
   "cell_type": "code",
   "execution_count": 60,
   "metadata": {},
   "outputs": [],
   "source": [
    "from sklearn.tree import DecisionTreeClassifier\n",
    "Dt = DecisionTreeClassifier(random_state=0, max_depth=2)"
   ]
  },
  {
   "cell_type": "code",
   "execution_count": 61,
   "metadata": {},
   "outputs": [],
   "source": [
    "tfidf_transformer_dt = TfidfTransformer()\n",
    "count_vect_dt = CountVectorizer()\n",
    "x_train_dt_tfidf = count_vect_dt.fit_transform(X_train)\n",
    "x_dt_tfidf = tfidf_transformer_dt.fit_transform(x_train_dt_tfidf)\n",
    "Dt = Dt.fit(x_train_dt_tfidf, y_train)"
   ]
  },
  {
   "cell_type": "code",
   "execution_count": 62,
   "metadata": {},
   "outputs": [],
   "source": [
    "y_pred_dt = Dt.predict(count_vect_dt.transform(X_test))"
   ]
  },
  {
   "cell_type": "code",
   "execution_count": 63,
   "metadata": {},
   "outputs": [
    {
     "name": "stdout",
     "output_type": "stream",
     "text": [
      "              precision    recall  f1-score   support\n",
      "\n",
      "           0       0.70      0.99      0.82      1029\n",
      "           1       0.97      0.47      0.63       813\n",
      "\n",
      "    accuracy                           0.76      1842\n",
      "   macro avg       0.83      0.73      0.72      1842\n",
      "weighted avg       0.82      0.76      0.74      1842\n",
      "\n"
     ]
    }
   ],
   "source": [
    "print(metrics.classification_report(y_test, y_pred_dt))"
   ]
  },
  {
   "cell_type": "markdown",
   "metadata": {},
   "source": [
    "Vamos a cargar datos adicionales para comprobar la precisión del modelo"
   ]
  },
  {
   "cell_type": "code",
   "execution_count": 68,
   "metadata": {},
   "outputs": [],
   "source": [
    "newdf = pd.read_excel (r'C:\\Users\\w7\\Desktop\\proyecto integrador\\test set.xlsx')"
   ]
  },
  {
   "cell_type": "code",
   "execution_count": 69,
   "metadata": {},
   "outputs": [
    {
     "data": {
      "text/html": [
       "<div>\n",
       "<style scoped>\n",
       "    .dataframe tbody tr th:only-of-type {\n",
       "        vertical-align: middle;\n",
       "    }\n",
       "\n",
       "    .dataframe tbody tr th {\n",
       "        vertical-align: top;\n",
       "    }\n",
       "\n",
       "    .dataframe thead th {\n",
       "        text-align: right;\n",
       "    }\n",
       "</style>\n",
       "<table border=\"1\" class=\"dataframe\">\n",
       "  <thead>\n",
       "    <tr style=\"text-align: right;\">\n",
       "      <th></th>\n",
       "      <th>product</th>\n",
       "      <th>name</th>\n",
       "      <th>date</th>\n",
       "      <th>rating</th>\n",
       "      <th>review</th>\n",
       "      <th>validez</th>\n",
       "    </tr>\n",
       "  </thead>\n",
       "  <tbody>\n",
       "    <tr>\n",
       "      <th>0</th>\n",
       "      <td>The Last of Us Part II</td>\n",
       "      <td>\\nJusticier\\n</td>\n",
       "      <td>Jun 19, 2020</td>\n",
       "      <td>0</td>\n",
       "      <td>\\nbeginner's error, never put two stories of t...</td>\n",
       "      <td>negativa</td>\n",
       "    </tr>\n",
       "    <tr>\n",
       "      <th>1</th>\n",
       "      <td>The Last of Us Part II</td>\n",
       "      <td>\\nJusticier\\n</td>\n",
       "      <td>Jun 19, 2020</td>\n",
       "      <td>0</td>\n",
       "      <td>\\nbeginner's error, never put two stories of t...</td>\n",
       "      <td>negativa</td>\n",
       "    </tr>\n",
       "    <tr>\n",
       "      <th>2</th>\n",
       "      <td>The Last of Us Part II</td>\n",
       "      <td>\\nadnan786\\n</td>\n",
       "      <td>Jun 19, 2020</td>\n",
       "      <td>0</td>\n",
       "      <td>\\ngame play was amazing, graphics are amazing,...</td>\n",
       "      <td>negativa</td>\n",
       "    </tr>\n",
       "    <tr>\n",
       "      <th>3</th>\n",
       "      <td>The Last of Us Part II</td>\n",
       "      <td>\\nJeb24965\\n</td>\n",
       "      <td>Jun 19, 2020</td>\n",
       "      <td>0</td>\n",
       "      <td>\\ngame play was amazing, graphics are amazing,...</td>\n",
       "      <td>negativa</td>\n",
       "    </tr>\n",
       "    <tr>\n",
       "      <th>4</th>\n",
       "      <td>The Last of Us Part II</td>\n",
       "      <td>\\nqsxd0711\\n</td>\n",
       "      <td>Jun 19, 2020</td>\n",
       "      <td>0</td>\n",
       "      <td>\\nNaughty dog, I think you must see Clinton Ea...</td>\n",
       "      <td>negativa</td>\n",
       "    </tr>\n",
       "    <tr>\n",
       "      <th>...</th>\n",
       "      <td>...</td>\n",
       "      <td>...</td>\n",
       "      <td>...</td>\n",
       "      <td>...</td>\n",
       "      <td>...</td>\n",
       "      <td>...</td>\n",
       "    </tr>\n",
       "    <tr>\n",
       "      <th>516</th>\n",
       "      <td>The Last of Us Part II</td>\n",
       "      <td>\\nLGBT_PLZ_DIE\\n</td>\n",
       "      <td>Jun 19, 2020</td>\n",
       "      <td>0</td>\n",
       "      <td>\\nI'm not going to mention any **** I'll say t...</td>\n",
       "      <td>negativa</td>\n",
       "    </tr>\n",
       "    <tr>\n",
       "      <th>517</th>\n",
       "      <td>The Last of Us Part II</td>\n",
       "      <td>\\nplayermartin286\\n</td>\n",
       "      <td>Jun 19, 2020</td>\n",
       "      <td>2</td>\n",
       "      <td>\\nI don’t appreciate leftist propaganda in a v...</td>\n",
       "      <td>negativa</td>\n",
       "    </tr>\n",
       "    <tr>\n",
       "      <th>518</th>\n",
       "      <td>The Last of Us Part II</td>\n",
       "      <td>\\nHerto1900\\n</td>\n",
       "      <td>Jun 19, 2020</td>\n",
       "      <td>0</td>\n",
       "      <td>Such an a political game, an history without s...</td>\n",
       "      <td>negativa</td>\n",
       "    </tr>\n",
       "    <tr>\n",
       "      <th>519</th>\n",
       "      <td>The Last of Us Part II</td>\n",
       "      <td>\\nVini2121\\n</td>\n",
       "      <td>Jun 19, 2020</td>\n",
       "      <td>1</td>\n",
       "      <td>\\nHow does one get a sex change during an apoc...</td>\n",
       "      <td>negativa</td>\n",
       "    </tr>\n",
       "    <tr>\n",
       "      <th>520</th>\n",
       "      <td>The Last of Us Part II</td>\n",
       "      <td>\\nAli90\\n</td>\n",
       "      <td>Jun 19, 2020</td>\n",
       "      <td>0</td>\n",
       "      <td>Killing Joel and Abby gets away is so **** up,...</td>\n",
       "      <td>negativa</td>\n",
       "    </tr>\n",
       "  </tbody>\n",
       "</table>\n",
       "<p>521 rows × 6 columns</p>\n",
       "</div>"
      ],
      "text/plain": [
       "                    product                 name          date  rating  \\\n",
       "0    The Last of Us Part II        \\nJusticier\\n  Jun 19, 2020       0   \n",
       "1    The Last of Us Part II        \\nJusticier\\n  Jun 19, 2020       0   \n",
       "2    The Last of Us Part II         \\nadnan786\\n  Jun 19, 2020       0   \n",
       "3    The Last of Us Part II         \\nJeb24965\\n  Jun 19, 2020       0   \n",
       "4    The Last of Us Part II         \\nqsxd0711\\n  Jun 19, 2020       0   \n",
       "..                      ...                  ...           ...     ...   \n",
       "516  The Last of Us Part II     \\nLGBT_PLZ_DIE\\n  Jun 19, 2020       0   \n",
       "517  The Last of Us Part II  \\nplayermartin286\\n  Jun 19, 2020       2   \n",
       "518  The Last of Us Part II        \\nHerto1900\\n  Jun 19, 2020       0   \n",
       "519  The Last of Us Part II         \\nVini2121\\n  Jun 19, 2020       1   \n",
       "520  The Last of Us Part II            \\nAli90\\n  Jun 19, 2020       0   \n",
       "\n",
       "                                                review   validez  \n",
       "0    \\nbeginner's error, never put two stories of t...  negativa  \n",
       "1    \\nbeginner's error, never put two stories of t...  negativa  \n",
       "2    \\ngame play was amazing, graphics are amazing,...  negativa  \n",
       "3    \\ngame play was amazing, graphics are amazing,...  negativa  \n",
       "4    \\nNaughty dog, I think you must see Clinton Ea...  negativa  \n",
       "..                                                 ...       ...  \n",
       "516  \\nI'm not going to mention any **** I'll say t...  negativa  \n",
       "517  \\nI don’t appreciate leftist propaganda in a v...  negativa  \n",
       "518  Such an a political game, an history without s...  negativa  \n",
       "519  \\nHow does one get a sex change during an apoc...  negativa  \n",
       "520  Killing Joel and Abby gets away is so **** up,...  negativa  \n",
       "\n",
       "[521 rows x 6 columns]"
      ]
     },
     "execution_count": 69,
     "metadata": {},
     "output_type": "execute_result"
    }
   ],
   "source": [
    "newdf"
   ]
  },
  {
   "cell_type": "code",
   "execution_count": 242,
   "metadata": {},
   "outputs": [],
   "source": [
    "newdf.replace(('positiva', 'negativa'), (1, 0), inplace=True)"
   ]
  },
  {
   "cell_type": "code",
   "execution_count": 243,
   "metadata": {
    "scrolled": true
   },
   "outputs": [
    {
     "data": {
      "text/html": [
       "<div>\n",
       "<style scoped>\n",
       "    .dataframe tbody tr th:only-of-type {\n",
       "        vertical-align: middle;\n",
       "    }\n",
       "\n",
       "    .dataframe tbody tr th {\n",
       "        vertical-align: top;\n",
       "    }\n",
       "\n",
       "    .dataframe thead th {\n",
       "        text-align: right;\n",
       "    }\n",
       "</style>\n",
       "<table border=\"1\" class=\"dataframe\">\n",
       "  <thead>\n",
       "    <tr style=\"text-align: right;\">\n",
       "      <th></th>\n",
       "      <th>product</th>\n",
       "      <th>name</th>\n",
       "      <th>date</th>\n",
       "      <th>rating</th>\n",
       "      <th>review</th>\n",
       "      <th>validez</th>\n",
       "    </tr>\n",
       "  </thead>\n",
       "  <tbody>\n",
       "    <tr>\n",
       "      <th>0</th>\n",
       "      <td>The Last of Us Part II</td>\n",
       "      <td>\\nJusticier\\n</td>\n",
       "      <td>Jun 19, 2020</td>\n",
       "      <td>0</td>\n",
       "      <td>\\nbeginner's error, never put two stories of t...</td>\n",
       "      <td>0</td>\n",
       "    </tr>\n",
       "    <tr>\n",
       "      <th>1</th>\n",
       "      <td>The Last of Us Part II</td>\n",
       "      <td>\\nJusticier\\n</td>\n",
       "      <td>Jun 19, 2020</td>\n",
       "      <td>0</td>\n",
       "      <td>\\nbeginner's error, never put two stories of t...</td>\n",
       "      <td>0</td>\n",
       "    </tr>\n",
       "    <tr>\n",
       "      <th>2</th>\n",
       "      <td>The Last of Us Part II</td>\n",
       "      <td>\\nadnan786\\n</td>\n",
       "      <td>Jun 19, 2020</td>\n",
       "      <td>0</td>\n",
       "      <td>\\ngame play was amazing, graphics are amazing,...</td>\n",
       "      <td>0</td>\n",
       "    </tr>\n",
       "    <tr>\n",
       "      <th>3</th>\n",
       "      <td>The Last of Us Part II</td>\n",
       "      <td>\\nJeb24965\\n</td>\n",
       "      <td>Jun 19, 2020</td>\n",
       "      <td>0</td>\n",
       "      <td>\\ngame play was amazing, graphics are amazing,...</td>\n",
       "      <td>0</td>\n",
       "    </tr>\n",
       "    <tr>\n",
       "      <th>4</th>\n",
       "      <td>The Last of Us Part II</td>\n",
       "      <td>\\nqsxd0711\\n</td>\n",
       "      <td>Jun 19, 2020</td>\n",
       "      <td>0</td>\n",
       "      <td>\\nNaughty dog, I think you must see Clinton Ea...</td>\n",
       "      <td>0</td>\n",
       "    </tr>\n",
       "    <tr>\n",
       "      <th>...</th>\n",
       "      <td>...</td>\n",
       "      <td>...</td>\n",
       "      <td>...</td>\n",
       "      <td>...</td>\n",
       "      <td>...</td>\n",
       "      <td>...</td>\n",
       "    </tr>\n",
       "    <tr>\n",
       "      <th>516</th>\n",
       "      <td>The Last of Us Part II</td>\n",
       "      <td>\\nLGBT_PLZ_DIE\\n</td>\n",
       "      <td>Jun 19, 2020</td>\n",
       "      <td>0</td>\n",
       "      <td>\\nI'm not going to mention any **** I'll say t...</td>\n",
       "      <td>0</td>\n",
       "    </tr>\n",
       "    <tr>\n",
       "      <th>517</th>\n",
       "      <td>The Last of Us Part II</td>\n",
       "      <td>\\nplayermartin286\\n</td>\n",
       "      <td>Jun 19, 2020</td>\n",
       "      <td>2</td>\n",
       "      <td>\\nI don’t appreciate leftist propaganda in a v...</td>\n",
       "      <td>0</td>\n",
       "    </tr>\n",
       "    <tr>\n",
       "      <th>518</th>\n",
       "      <td>The Last of Us Part II</td>\n",
       "      <td>\\nHerto1900\\n</td>\n",
       "      <td>Jun 19, 2020</td>\n",
       "      <td>0</td>\n",
       "      <td>Such an a political game, an history without s...</td>\n",
       "      <td>0</td>\n",
       "    </tr>\n",
       "    <tr>\n",
       "      <th>519</th>\n",
       "      <td>The Last of Us Part II</td>\n",
       "      <td>\\nVini2121\\n</td>\n",
       "      <td>Jun 19, 2020</td>\n",
       "      <td>1</td>\n",
       "      <td>\\nHow does one get a sex change during an apoc...</td>\n",
       "      <td>0</td>\n",
       "    </tr>\n",
       "    <tr>\n",
       "      <th>520</th>\n",
       "      <td>The Last of Us Part II</td>\n",
       "      <td>\\nAli90\\n</td>\n",
       "      <td>Jun 19, 2020</td>\n",
       "      <td>0</td>\n",
       "      <td>Killing Joel and Abby gets away is so **** up,...</td>\n",
       "      <td>0</td>\n",
       "    </tr>\n",
       "  </tbody>\n",
       "</table>\n",
       "<p>521 rows × 6 columns</p>\n",
       "</div>"
      ],
      "text/plain": [
       "                    product                 name          date  rating  \\\n",
       "0    The Last of Us Part II        \\nJusticier\\n  Jun 19, 2020       0   \n",
       "1    The Last of Us Part II        \\nJusticier\\n  Jun 19, 2020       0   \n",
       "2    The Last of Us Part II         \\nadnan786\\n  Jun 19, 2020       0   \n",
       "3    The Last of Us Part II         \\nJeb24965\\n  Jun 19, 2020       0   \n",
       "4    The Last of Us Part II         \\nqsxd0711\\n  Jun 19, 2020       0   \n",
       "..                      ...                  ...           ...     ...   \n",
       "516  The Last of Us Part II     \\nLGBT_PLZ_DIE\\n  Jun 19, 2020       0   \n",
       "517  The Last of Us Part II  \\nplayermartin286\\n  Jun 19, 2020       2   \n",
       "518  The Last of Us Part II        \\nHerto1900\\n  Jun 19, 2020       0   \n",
       "519  The Last of Us Part II         \\nVini2121\\n  Jun 19, 2020       1   \n",
       "520  The Last of Us Part II            \\nAli90\\n  Jun 19, 2020       0   \n",
       "\n",
       "                                                review  validez  \n",
       "0    \\nbeginner's error, never put two stories of t...        0  \n",
       "1    \\nbeginner's error, never put two stories of t...        0  \n",
       "2    \\ngame play was amazing, graphics are amazing,...        0  \n",
       "3    \\ngame play was amazing, graphics are amazing,...        0  \n",
       "4    \\nNaughty dog, I think you must see Clinton Ea...        0  \n",
       "..                                                 ...      ...  \n",
       "516  \\nI'm not going to mention any **** I'll say t...        0  \n",
       "517  \\nI don’t appreciate leftist propaganda in a v...        0  \n",
       "518  Such an a political game, an history without s...        0  \n",
       "519  \\nHow does one get a sex change during an apoc...        0  \n",
       "520  Killing Joel and Abby gets away is so **** up,...        0  \n",
       "\n",
       "[521 rows x 6 columns]"
      ]
     },
     "execution_count": 243,
     "metadata": {},
     "output_type": "execute_result"
    }
   ],
   "source": [
    "newdf"
   ]
  },
  {
   "cell_type": "code",
   "execution_count": 244,
   "metadata": {},
   "outputs": [],
   "source": [
    "x = newdf['review']\n",
    "y = newdf['validez']"
   ]
  },
  {
   "cell_type": "code",
   "execution_count": 245,
   "metadata": {},
   "outputs": [
    {
     "name": "stdout",
     "output_type": "stream",
     "text": [
      "              precision    recall  f1-score   support\n",
      "\n",
      "           0       0.80      0.80      0.80       426\n",
      "           1       0.09      0.08      0.08        95\n",
      "\n",
      "    accuracy                           0.67       521\n",
      "   macro avg       0.44      0.44      0.44       521\n",
      "weighted avg       0.67      0.67      0.67       521\n",
      "\n"
     ]
    }
   ],
   "source": [
    "y_nb = nb.predict(count_vect_nb.transform(x))\n",
    "print(metrics.classification_report(y, y_nb))"
   ]
  },
  {
   "cell_type": "code",
   "execution_count": 246,
   "metadata": {},
   "outputs": [
    {
     "name": "stdout",
     "output_type": "stream",
     "text": [
      "              precision    recall  f1-score   support\n",
      "\n",
      "           0       0.82      0.77      0.79       426\n",
      "           1       0.19      0.24      0.21        95\n",
      "\n",
      "    accuracy                           0.67       521\n",
      "   macro avg       0.50      0.50      0.50       521\n",
      "weighted avg       0.70      0.67      0.69       521\n",
      "\n"
     ]
    }
   ],
   "source": [
    "y_knn = knn.predict(count_vect_knn.transform(x))\n",
    "print(metrics.classification_report(y, y_knn))"
   ]
  },
  {
   "cell_type": "code",
   "execution_count": 247,
   "metadata": {},
   "outputs": [
    {
     "name": "stdout",
     "output_type": "stream",
     "text": [
      "              precision    recall  f1-score   support\n",
      "\n",
      "           0       0.82      1.00      0.90       426\n",
      "           1       0.00      0.00      0.00        95\n",
      "\n",
      "    accuracy                           0.82       521\n",
      "   macro avg       0.41      0.50      0.45       521\n",
      "weighted avg       0.67      0.82      0.74       521\n",
      "\n"
     ]
    },
    {
     "name": "stderr",
     "output_type": "stream",
     "text": [
      "D:\\Users\\w7\\anaconda3\\lib\\site-packages\\sklearn\\metrics\\_classification.py:1272: UndefinedMetricWarning: Precision and F-score are ill-defined and being set to 0.0 in labels with no predicted samples. Use `zero_division` parameter to control this behavior.\n",
      "  _warn_prf(average, modifier, msg_start, len(result))\n"
     ]
    }
   ],
   "source": [
    "y_Dt = Dt.predict(count_vect_dt.transform(x))\n",
    "print(metrics.classification_report(y, y_Dt))"
   ]
  },
  {
   "cell_type": "code",
   "execution_count": 248,
   "metadata": {},
   "outputs": [
    {
     "data": {
      "text/html": [
       "<div>\n",
       "<style scoped>\n",
       "    .dataframe tbody tr th:only-of-type {\n",
       "        vertical-align: middle;\n",
       "    }\n",
       "\n",
       "    .dataframe tbody tr th {\n",
       "        vertical-align: top;\n",
       "    }\n",
       "\n",
       "    .dataframe thead th {\n",
       "        text-align: right;\n",
       "    }\n",
       "</style>\n",
       "<table border=\"1\" class=\"dataframe\">\n",
       "  <thead>\n",
       "    <tr style=\"text-align: right;\">\n",
       "      <th></th>\n",
       "      <th>product</th>\n",
       "      <th>name</th>\n",
       "      <th>date</th>\n",
       "      <th>rating</th>\n",
       "      <th>review</th>\n",
       "      <th>percentage</th>\n",
       "      <th>langreview</th>\n",
       "    </tr>\n",
       "  </thead>\n",
       "  <tbody>\n",
       "    <tr>\n",
       "      <th>2008-09-10</th>\n",
       "      <td>Spore</td>\n",
       "      <td>\\nAlexandreD.\\n</td>\n",
       "      <td>2008-09-10</td>\n",
       "      <td>5</td>\n",
       "      <td>\\n You can create a lot and do a little. Gamep...</td>\n",
       "      <td>1.0</td>\n",
       "      <td>en</td>\n",
       "    </tr>\n",
       "    <tr>\n",
       "      <th>2008-09-18</th>\n",
       "      <td>Spore</td>\n",
       "      <td>\\nJonathanH.\\n</td>\n",
       "      <td>2008-09-18</td>\n",
       "      <td>5</td>\n",
       "      <td>\\n Some nice ideas, but it's over simplified a...</td>\n",
       "      <td>1.0</td>\n",
       "      <td>en</td>\n",
       "    </tr>\n",
       "    <tr>\n",
       "      <th>2008-09-18</th>\n",
       "      <td>Spore</td>\n",
       "      <td>\\nJ\\n</td>\n",
       "      <td>2008-09-18</td>\n",
       "      <td>6</td>\n",
       "      <td>The game has its ups and downs. Firstly this ...</td>\n",
       "      <td>1.0</td>\n",
       "      <td>en</td>\n",
       "    </tr>\n",
       "    <tr>\n",
       "      <th>2015-11-27</th>\n",
       "      <td>Spore</td>\n",
       "      <td>\\nRavage\\n</td>\n",
       "      <td>2015-11-27</td>\n",
       "      <td>7</td>\n",
       "      <td>\\nThis is a great game with a great concept. A...</td>\n",
       "      <td>1.0</td>\n",
       "      <td>en</td>\n",
       "    </tr>\n",
       "    <tr>\n",
       "      <th>2019-05-09</th>\n",
       "      <td>Spore</td>\n",
       "      <td>\\nPrincessRose\\n</td>\n",
       "      <td>2019-05-09</td>\n",
       "      <td>6</td>\n",
       "      <td>Quite a fun game for a while, I enjoy creating...</td>\n",
       "      <td>1.0</td>\n",
       "      <td>en</td>\n",
       "    </tr>\n",
       "    <tr>\n",
       "      <th>...</th>\n",
       "      <td>...</td>\n",
       "      <td>...</td>\n",
       "      <td>...</td>\n",
       "      <td>...</td>\n",
       "      <td>...</td>\n",
       "      <td>...</td>\n",
       "      <td>...</td>\n",
       "    </tr>\n",
       "    <tr>\n",
       "      <th>2020-04-19</th>\n",
       "      <td>Animal Crossing: New Horizons</td>\n",
       "      <td>\\nDoubleDutch\\n</td>\n",
       "      <td>2020-04-19</td>\n",
       "      <td>0</td>\n",
       "      <td>Thinking that given the fact that it is the ye...</td>\n",
       "      <td>0.0</td>\n",
       "      <td>en</td>\n",
       "    </tr>\n",
       "    <tr>\n",
       "      <th>2020-04-19</th>\n",
       "      <td>Animal Crossing: New Horizons</td>\n",
       "      <td>\\nflickman42\\n</td>\n",
       "      <td>2020-04-19</td>\n",
       "      <td>1</td>\n",
       "      <td>\\nA game geared towards being family-friendly ...</td>\n",
       "      <td>0.0</td>\n",
       "      <td>en</td>\n",
       "    </tr>\n",
       "    <tr>\n",
       "      <th>2020-04-19</th>\n",
       "      <td>Animal Crossing: New Horizons</td>\n",
       "      <td>\\nThe_Man_With_No\\n</td>\n",
       "      <td>2020-04-19</td>\n",
       "      <td>6</td>\n",
       "      <td>Only first player can create an island, it is ...</td>\n",
       "      <td>0.0</td>\n",
       "      <td>en</td>\n",
       "    </tr>\n",
       "    <tr>\n",
       "      <th>2020-04-19</th>\n",
       "      <td>Animal Crossing: New Horizons</td>\n",
       "      <td>\\nWinthorp\\n</td>\n",
       "      <td>2020-04-19</td>\n",
       "      <td>0</td>\n",
       "      <td>The choice to make the island binded to the SW...</td>\n",
       "      <td>0.0</td>\n",
       "      <td>en</td>\n",
       "    </tr>\n",
       "    <tr>\n",
       "      <th>2020-04-19</th>\n",
       "      <td>Animal Crossing: New Horizons</td>\n",
       "      <td>\\nNotoriousRPG\\n</td>\n",
       "      <td>2020-04-19</td>\n",
       "      <td>6</td>\n",
       "      <td>I’m beyond frustrated with this game, this is ...</td>\n",
       "      <td>0.0</td>\n",
       "      <td>en</td>\n",
       "    </tr>\n",
       "  </tbody>\n",
       "</table>\n",
       "<p>16826 rows × 7 columns</p>\n",
       "</div>"
      ],
      "text/plain": [
       "                                  product                 name       date  \\\n",
       "2008-09-10                          Spore      \\nAlexandreD.\\n 2008-09-10   \n",
       "2008-09-18                          Spore       \\nJonathanH.\\n 2008-09-18   \n",
       "2008-09-18                          Spore                \\nJ\\n 2008-09-18   \n",
       "2015-11-27                          Spore           \\nRavage\\n 2015-11-27   \n",
       "2019-05-09                          Spore     \\nPrincessRose\\n 2019-05-09   \n",
       "...                                   ...                  ...        ...   \n",
       "2020-04-19  Animal Crossing: New Horizons      \\nDoubleDutch\\n 2020-04-19   \n",
       "2020-04-19  Animal Crossing: New Horizons       \\nflickman42\\n 2020-04-19   \n",
       "2020-04-19  Animal Crossing: New Horizons  \\nThe_Man_With_No\\n 2020-04-19   \n",
       "2020-04-19  Animal Crossing: New Horizons         \\nWinthorp\\n 2020-04-19   \n",
       "2020-04-19  Animal Crossing: New Horizons     \\nNotoriousRPG\\n 2020-04-19   \n",
       "\n",
       "            rating                                             review  \\\n",
       "2008-09-10       5  \\n You can create a lot and do a little. Gamep...   \n",
       "2008-09-18       5  \\n Some nice ideas, but it's over simplified a...   \n",
       "2008-09-18       6   The game has its ups and downs. Firstly this ...   \n",
       "2015-11-27       7  \\nThis is a great game with a great concept. A...   \n",
       "2019-05-09       6  Quite a fun game for a while, I enjoy creating...   \n",
       "...            ...                                                ...   \n",
       "2020-04-19       0  Thinking that given the fact that it is the ye...   \n",
       "2020-04-19       1  \\nA game geared towards being family-friendly ...   \n",
       "2020-04-19       6  Only first player can create an island, it is ...   \n",
       "2020-04-19       0  The choice to make the island binded to the SW...   \n",
       "2020-04-19       6  I’m beyond frustrated with this game, this is ...   \n",
       "\n",
       "            percentage langreview  \n",
       "2008-09-10         1.0         en  \n",
       "2008-09-18         1.0         en  \n",
       "2008-09-18         1.0         en  \n",
       "2015-11-27         1.0         en  \n",
       "2019-05-09         1.0         en  \n",
       "...                ...        ...  \n",
       "2020-04-19         0.0         en  \n",
       "2020-04-19         0.0         en  \n",
       "2020-04-19         0.0         en  \n",
       "2020-04-19         0.0         en  \n",
       "2020-04-19         0.0         en  \n",
       "\n",
       "[16826 rows x 7 columns]"
      ]
     },
     "execution_count": 248,
     "metadata": {},
     "output_type": "execute_result"
    }
   ],
   "source": [
    "df"
   ]
  },
  {
   "cell_type": "code",
   "execution_count": 176,
   "metadata": {},
   "outputs": [],
   "source": [
    "newdf2 = newdf"
   ]
  },
  {
   "cell_type": "code",
   "execution_count": 177,
   "metadata": {},
   "outputs": [],
   "source": [
    "newdf2['clasificacion'] = y_nb"
   ]
  },
  {
   "cell_type": "code",
   "execution_count": 182,
   "metadata": {},
   "outputs": [],
   "source": [
    "newdf2 = newdf2.drop(columns = ['validez'])"
   ]
  },
  {
   "cell_type": "code",
   "execution_count": 184,
   "metadata": {},
   "outputs": [],
   "source": [
    "newdf2['clasificacion'].replace((1, 0), ('positiva', 'negativa'), inplace=True)"
   ]
  },
  {
   "cell_type": "code",
   "execution_count": 197,
   "metadata": {},
   "outputs": [
    {
     "data": {
      "text/html": [
       "<div>\n",
       "<style scoped>\n",
       "    .dataframe tbody tr th:only-of-type {\n",
       "        vertical-align: middle;\n",
       "    }\n",
       "\n",
       "    .dataframe tbody tr th {\n",
       "        vertical-align: top;\n",
       "    }\n",
       "\n",
       "    .dataframe thead th {\n",
       "        text-align: right;\n",
       "    }\n",
       "</style>\n",
       "<table border=\"1\" class=\"dataframe\">\n",
       "  <thead>\n",
       "    <tr style=\"text-align: right;\">\n",
       "      <th></th>\n",
       "      <th>product</th>\n",
       "      <th>name</th>\n",
       "      <th>date</th>\n",
       "      <th>rating</th>\n",
       "      <th>review</th>\n",
       "      <th>clasificacion</th>\n",
       "    </tr>\n",
       "  </thead>\n",
       "  <tbody>\n",
       "    <tr>\n",
       "      <th>0</th>\n",
       "      <td>The Last of Us Part II</td>\n",
       "      <td>\\nJusticier\\n</td>\n",
       "      <td>Jun 19, 2020</td>\n",
       "      <td>0</td>\n",
       "      <td>\\nbeginner's error, never put two stories of t...</td>\n",
       "      <td>negativa</td>\n",
       "    </tr>\n",
       "    <tr>\n",
       "      <th>1</th>\n",
       "      <td>The Last of Us Part II</td>\n",
       "      <td>\\nJusticier\\n</td>\n",
       "      <td>Jun 19, 2020</td>\n",
       "      <td>0</td>\n",
       "      <td>\\nbeginner's error, never put two stories of t...</td>\n",
       "      <td>negativa</td>\n",
       "    </tr>\n",
       "    <tr>\n",
       "      <th>2</th>\n",
       "      <td>The Last of Us Part II</td>\n",
       "      <td>\\nadnan786\\n</td>\n",
       "      <td>Jun 19, 2020</td>\n",
       "      <td>0</td>\n",
       "      <td>\\ngame play was amazing, graphics are amazing,...</td>\n",
       "      <td>negativa</td>\n",
       "    </tr>\n",
       "    <tr>\n",
       "      <th>3</th>\n",
       "      <td>The Last of Us Part II</td>\n",
       "      <td>\\nJeb24965\\n</td>\n",
       "      <td>Jun 19, 2020</td>\n",
       "      <td>0</td>\n",
       "      <td>\\ngame play was amazing, graphics are amazing,...</td>\n",
       "      <td>negativa</td>\n",
       "    </tr>\n",
       "    <tr>\n",
       "      <th>4</th>\n",
       "      <td>The Last of Us Part II</td>\n",
       "      <td>\\nqsxd0711\\n</td>\n",
       "      <td>Jun 19, 2020</td>\n",
       "      <td>0</td>\n",
       "      <td>\\nNaughty dog, I think you must see Clinton Ea...</td>\n",
       "      <td>negativa</td>\n",
       "    </tr>\n",
       "    <tr>\n",
       "      <th>...</th>\n",
       "      <td>...</td>\n",
       "      <td>...</td>\n",
       "      <td>...</td>\n",
       "      <td>...</td>\n",
       "      <td>...</td>\n",
       "      <td>...</td>\n",
       "    </tr>\n",
       "    <tr>\n",
       "      <th>372</th>\n",
       "      <td>The Last of Us Part II</td>\n",
       "      <td>\\nadriancgmask\\n</td>\n",
       "      <td>Jun 19, 2020</td>\n",
       "      <td>0</td>\n",
       "      <td>When I'm watching the last episode of game of ...</td>\n",
       "      <td>negativa</td>\n",
       "    </tr>\n",
       "    <tr>\n",
       "      <th>373</th>\n",
       "      <td>The Last of Us Part II</td>\n",
       "      <td>\\nDanil_Karpoff\\n</td>\n",
       "      <td>Jun 19, 2020</td>\n",
       "      <td>0</td>\n",
       "      <td>Worst playstation 4 exclusive plot wise. Fans ...</td>\n",
       "      <td>negativa</td>\n",
       "    </tr>\n",
       "    <tr>\n",
       "      <th>375</th>\n",
       "      <td>The Last of Us Part II</td>\n",
       "      <td>\\nxxP4L4D1Nxx\\n</td>\n",
       "      <td>Jun 19, 2020</td>\n",
       "      <td>4</td>\n",
       "      <td>Wow...just wow.\\rDid you know Revenge is bad? ...</td>\n",
       "      <td>negativa</td>\n",
       "    </tr>\n",
       "    <tr>\n",
       "      <th>376</th>\n",
       "      <td>The Last of Us Part II</td>\n",
       "      <td>\\nSleepOnTheFloor\\n</td>\n",
       "      <td>Jun 19, 2020</td>\n",
       "      <td>0</td>\n",
       "      <td>Y'aLl AcT LiKe YoU'vE hEaRd Of Us Or SoMeThInG...</td>\n",
       "      <td>negativa</td>\n",
       "    </tr>\n",
       "    <tr>\n",
       "      <th>377</th>\n",
       "      <td>The Last of Us Part II</td>\n",
       "      <td>\\nRodd__Boward\\n</td>\n",
       "      <td>Jun 19, 2020</td>\n",
       "      <td>0</td>\n",
       "      <td>You can't customise the golf club, very disapp...</td>\n",
       "      <td>negativa</td>\n",
       "    </tr>\n",
       "  </tbody>\n",
       "</table>\n",
       "<p>320 rows × 6 columns</p>\n",
       "</div>"
      ],
      "text/plain": [
       "                    product                 name          date  rating  \\\n",
       "0    The Last of Us Part II        \\nJusticier\\n  Jun 19, 2020       0   \n",
       "1    The Last of Us Part II        \\nJusticier\\n  Jun 19, 2020       0   \n",
       "2    The Last of Us Part II         \\nadnan786\\n  Jun 19, 2020       0   \n",
       "3    The Last of Us Part II         \\nJeb24965\\n  Jun 19, 2020       0   \n",
       "4    The Last of Us Part II         \\nqsxd0711\\n  Jun 19, 2020       0   \n",
       "..                      ...                  ...           ...     ...   \n",
       "372  The Last of Us Part II     \\nadriancgmask\\n  Jun 19, 2020       0   \n",
       "373  The Last of Us Part II    \\nDanil_Karpoff\\n  Jun 19, 2020       0   \n",
       "375  The Last of Us Part II      \\nxxP4L4D1Nxx\\n  Jun 19, 2020       4   \n",
       "376  The Last of Us Part II  \\nSleepOnTheFloor\\n  Jun 19, 2020       0   \n",
       "377  The Last of Us Part II     \\nRodd__Boward\\n  Jun 19, 2020       0   \n",
       "\n",
       "                                                review clasificacion  \n",
       "0    \\nbeginner's error, never put two stories of t...      negativa  \n",
       "1    \\nbeginner's error, never put two stories of t...      negativa  \n",
       "2    \\ngame play was amazing, graphics are amazing,...      negativa  \n",
       "3    \\ngame play was amazing, graphics are amazing,...      negativa  \n",
       "4    \\nNaughty dog, I think you must see Clinton Ea...      negativa  \n",
       "..                                                 ...           ...  \n",
       "372  When I'm watching the last episode of game of ...      negativa  \n",
       "373  Worst playstation 4 exclusive plot wise. Fans ...      negativa  \n",
       "375  Wow...just wow.\\rDid you know Revenge is bad? ...      negativa  \n",
       "376  Y'aLl AcT LiKe YoU'vE hEaRd Of Us Or SoMeThInG...      negativa  \n",
       "377  You can't customise the golf club, very disapp...      negativa  \n",
       "\n",
       "[320 rows x 6 columns]"
      ]
     },
     "execution_count": 197,
     "metadata": {},
     "output_type": "execute_result"
    }
   ],
   "source": [
    "newdf2.loc[newdf2['clasificacion'] == 'negativa']"
   ]
  },
  {
   "cell_type": "markdown",
   "metadata": {},
   "source": [
    "Se hace una recalificación del producto"
   ]
  },
  {
   "cell_type": "code",
   "execution_count": 71,
   "metadata": {},
   "outputs": [],
   "source": [
    "newdf2 = pd.read_excel (r'C:\\Users\\w7\\tlou2final.xlsx')"
   ]
  },
  {
   "cell_type": "code",
   "execution_count": 74,
   "metadata": {},
   "outputs": [],
   "source": [
    "x2 = newdf2['review']"
   ]
  },
  {
   "cell_type": "code",
   "execution_count": 75,
   "metadata": {},
   "outputs": [],
   "source": [
    "y_knn2 = knn.predict(count_vect_knn.transform(x2))\n",
    "y_Dt2 = Dt.predict(count_vect_dt.transform(x2))\n",
    "y_nb2 = nb.predict(count_vect_nb.transform(x2))"
   ]
  },
  {
   "cell_type": "code",
   "execution_count": 77,
   "metadata": {},
   "outputs": [],
   "source": [
    "newdf2['bombing'] = y_knn2"
   ]
  },
  {
   "cell_type": "code",
   "execution_count": 80,
   "metadata": {
    "scrolled": true
   },
   "outputs": [],
   "source": [
    "newdf2['bombing'].replace((1, 0), ('positiva', 'negativa'), inplace=True)"
   ]
  },
  {
   "cell_type": "code",
   "execution_count": 95,
   "metadata": {},
   "outputs": [
    {
     "data": {
      "text/plain": [
       "3.9914353219137624"
      ]
     },
     "execution_count": 95,
     "metadata": {},
     "output_type": "execute_result"
    }
   ],
   "source": [
    "newdf2.loc[newdf2['bombing'] == 'positiva']['rating'].mean()"
   ]
  },
  {
   "cell_type": "code",
   "execution_count": 84,
   "metadata": {},
   "outputs": [],
   "source": [
    "rating2 = pd.read_excel (r'C:\\Users\\w7\\tlou2final.xlsx')"
   ]
  },
  {
   "cell_type": "code",
   "execution_count": 88,
   "metadata": {},
   "outputs": [],
   "source": [
    "fecha = np.array(rating2['date'])\n",
    "calif = np.array(rating2['rating'])"
   ]
  },
  {
   "cell_type": "code",
   "execution_count": 89,
   "metadata": {},
   "outputs": [
    {
     "name": "stdout",
     "output_type": "stream",
     "text": [
      "4.42923749367673\n",
      "8\n"
     ]
    }
   ],
   "source": [
    "flatrating=0\n",
    "AA, BB = np.unique(fecha, return_counts=True)\n",
    "for i in range(0, len(fecha)):\n",
    "    flatrating=flatrating + float(calif[i])*(1/((fecha==fecha[i]).sum()))*(1/len(BB))\n",
    "print(flatrating) "
   ]
  },
  {
   "cell_type": "code",
   "execution_count": 135,
   "metadata": {},
   "outputs": [],
   "source": [
    "datas = pd.read_excel (r'C:\\Users\\w7\\Desktop\\proyecto integrador\\dataset.xlsx')\n",
    "datas['date'] = datas['date'].apply(dateutil.parser.parse)"
   ]
  },
  {
   "cell_type": "code",
   "execution_count": 136,
   "metadata": {},
   "outputs": [],
   "source": [
    "datas = test.loc[test['product']==\"Call of Duty: Modern Warfare\"]"
   ]
  },
  {
   "cell_type": "code",
   "execution_count": 137,
   "metadata": {},
   "outputs": [],
   "source": [
    "fecha = np.array(datas['date'])\n",
    "calif = np.array(datas['rating'])"
   ]
  },
  {
   "cell_type": "code",
   "execution_count": 138,
   "metadata": {},
   "outputs": [
    {
     "name": "stdout",
     "output_type": "stream",
     "text": [
      "4.3529716849219176\n"
     ]
    }
   ],
   "source": [
    "flatrating=0\n",
    "AA, BB = np.unique(fecha, return_counts=True)\n",
    "for i in range(0, len(fecha)):\n",
    "    flatrating=flatrating + float(calif[i])*(1/((fecha==fecha[i]).sum()))*(1/len(BB))\n",
    "print(flatrating) "
   ]
  },
  {
   "cell_type": "code",
   "execution_count": 142,
   "metadata": {},
   "outputs": [],
   "source": [
    "A, B = np.unique(datas['date'], return_counts=True)"
   ]
  },
  {
   "cell_type": "code",
   "execution_count": 144,
   "metadata": {},
   "outputs": [
    {
     "name": "stdout",
     "output_type": "stream",
     "text": [
      "3.893491124260356\n"
     ]
    }
   ],
   "source": [
    "normquotienttemp = sum(B)/len(B)\n",
    "normquotient = normquotienttemp*normquotienttemp*len(B)\n",
    "\n",
    " \n",
    "\n",
    "index1 = np.dot(B,B)/normquotient\n",
    "print(index1)"
   ]
  },
  {
   "cell_type": "code",
   "execution_count": 146,
   "metadata": {},
   "outputs": [
    {
     "name": "stdout",
     "output_type": "stream",
     "text": [
      "17.630906886916517\n"
     ]
    }
   ],
   "source": [
    "index2 = float(np.var(datas[['rating']]))\n",
    "print(index2)"
   ]
  },
  {
   "cell_type": "code",
   "execution_count": 150,
   "metadata": {},
   "outputs": [],
   "source": [
    "ind3 = (index1/5) + (index2/20)"
   ]
  },
  {
   "cell_type": "code",
   "execution_count": 153,
   "metadata": {},
   "outputs": [
    {
     "data": {
      "text/plain": [
       "<matplotlib.axes._subplots.AxesSubplot at 0x132a3e34588>"
      ]
     },
     "execution_count": 153,
     "metadata": {},
     "output_type": "execute_result"
    },
    {
     "data": {
      "image/png": "[encoded data removed]",
      "text/plain": [
       "<Figure size 432x288 with 1 Axes>"
      ]
     },
     "metadata": {},
     "output_type": "display_data"
    }
   ],
   "source": [
    "dataspor4\n",
    "sns.set_style('darkgrid')\n",
    "sns.distplot(datas['date'])"
   ]
  },
  {
   "cell_type": "code",
   "execution_count": null,
   "metadata": {},
   "outputs": [],
   "source": []
  }
 ],
 "metadata": {
  "kernelspec": {
   "display_name": "Python 3",
   "language": "python",
   "name": "python3"
  },
  "language_info": {
   "codemirror_mode": {
    "name": "ipython",
    "version": 3
   },
   "file_extension": ".py",
   "mimetype": "text/x-python",
   "name": "python",
   "nbconvert_exporter": "python",
   "pygments_lexer": "ipython3",
   "version": "3.7.6"
  }
 },
 "nbformat": 4,
 "nbformat_minor": 4
}
